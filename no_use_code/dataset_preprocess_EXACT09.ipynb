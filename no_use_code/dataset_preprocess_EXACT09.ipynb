{
 "cells": [
  {
   "cell_type": "markdown",
   "id": "f8a046af",
   "metadata": {},
   "source": [
    "# Pre-process EXACT09"
   ]
  },
  {
   "cell_type": "code",
   "execution_count": 1,
   "id": "451ac4f8",
   "metadata": {},
   "outputs": [],
   "source": [
    "#用pytracking环境执行\n",
    "import os\n",
    "import numpy as np\n",
    "import SimpleITK as sitk\n",
    "from PIL import Image\n",
    "import pydicom\n",
    "import cv2\n",
    "import nibabel as nib"
   ]
  },
  {
   "attachments": {},
   "cell_type": "markdown",
   "id": "d400cfe0",
   "metadata": {},
   "source": [
    "### get dict of img path 指定原始EXACT09路径"
   ]
  },
  {
   "cell_type": "code",
   "execution_count": 2,
   "id": "0f32d525",
   "metadata": {},
   "outputs": [],
   "source": [
    "\n",
    "raw_train_file_path = \"/home/cs22-wangc/data/Airway/EXACT09/Training\"\n",
    "raw_test_file_path = \"/home/cs22-wangc/data/Airway/EXACT09/Testing\"\n",
    "# raw_train_file_path = \"/home/cs22-wangc/data/Airway/EXACT09\"\n",
    "# raw_test_file_path = \"/home/cs22-wangc/data/Airway/EXACT09\""
   ]
  },
  {
   "cell_type": "markdown",
   "id": "66219861",
   "metadata": {},
   "source": [
    "The file structure should be like this\\\n",
    "\\\n",
    "/data/Airway/EXACT09\\\n",
    "    /Training\\\n",
    "        /CASE01\\\n",
    "            /1093782\\\n",
    "            /1093783\\\n",
    "            ...\\\n",
    "        /CASE02\\\n",
    "        ...\\\n",
    "    /Testing\\\n",
    "        /CASE21\\\n",
    "        ..."
   ]
  },
  {
   "cell_type": "code",
   "execution_count": 3,
   "id": "b7a0ff15",
   "metadata": {},
   "outputs": [
    {
     "name": "stdout",
     "output_type": "stream",
     "text": [
      "{}\n"
     ]
    }
   ],
   "source": [
    "train_case_dict = dict()\n",
    "test_case_dict = dict()\n",
    "\n",
    "train_case_names=os.listdir(raw_train_file_path)\n",
    "train_case_names.sort()\n",
    "print(train_case_dict)\n",
    "test_case_names=os.listdir(raw_test_file_path)\n",
    "test_case_names.sort()\n",
    "\n",
    "for case_name in train_case_names:\n",
    "    imgs=os.listdir(raw_train_file_path+\"/\"+case_name)\n",
    "    imgs.sort()\n",
    "    img_path_list = []\n",
    "    for img in imgs:\n",
    "        img_path_list.append(raw_train_file_path+\"/\"+case_name+\"/\"+img)\n",
    "    train_case_dict[case_name]=img_path_list\n",
    "\n",
    "for case_name in test_case_names:\n",
    "    imgs=os.listdir(raw_test_file_path+\"/\"+case_name)\n",
    "    imgs.sort()\n",
    "    img_path_list = []\n",
    "    for img in imgs:\n",
    "        img_path_list.append(raw_test_file_path+\"/\"+case_name+\"/\"+img)\n",
    "    test_case_dict[case_name]=img_path_list"
   ]
  },
  {
   "cell_type": "code",
   "execution_count": 24,
   "id": "55aad3eb",
   "metadata": {},
   "outputs": [
    {
     "name": "stdout",
     "output_type": "stream",
     "text": [
      "CASE01\n",
      "['/home/cs22-wangc/data/Airway/EXACT09/Training/CASE01/1093782', '/home/cs22-wangc/data/Airway/EXACT09/Training/CASE01/1093783', '/home/cs22-wangc/data/Airway/EXACT09/Training/CASE01/1093784', '/home/cs22-wangc/data/Airway/EXACT09/Training/CASE01/1093785', '/home/cs22-wangc/data/Airway/EXACT09/Training/CASE01/1093786', '/home/cs22-wangc/data/Airway/EXACT09/Training/CASE01/1093787', '/home/cs22-wangc/data/Airway/EXACT09/Training/CASE01/1093788', '/home/cs22-wangc/data/Airway/EXACT09/Training/CASE01/1093789', '/home/cs22-wangc/data/Airway/EXACT09/Training/CASE01/1093790', '/home/cs22-wangc/data/Airway/EXACT09/Training/CASE01/1093791', '/home/cs22-wangc/data/Airway/EXACT09/Training/CASE01/1093792', '/home/cs22-wangc/data/Airway/EXACT09/Training/CASE01/1093793', '/home/cs22-wangc/data/Airway/EXACT09/Training/CASE01/1093794', '/home/cs22-wangc/data/Airway/EXACT09/Training/CASE01/1093795', '/home/cs22-wangc/data/Airway/EXACT09/Training/CASE01/1093796', '/home/cs22-wangc/data/Airway/EXACT09/Training/CASE01/1093797', '/home/cs22-wangc/data/Airway/EXACT09/Training/CASE01/1093798', '/home/cs22-wangc/data/Airway/EXACT09/Training/CASE01/1093799', '/home/cs22-wangc/data/Airway/EXACT09/Training/CASE01/1093800', '/home/cs22-wangc/data/Airway/EXACT09/Training/CASE01/1093801', '/home/cs22-wangc/data/Airway/EXACT09/Training/CASE01/1093802', '/home/cs22-wangc/data/Airway/EXACT09/Training/CASE01/1093803', '/home/cs22-wangc/data/Airway/EXACT09/Training/CASE01/1093804', '/home/cs22-wangc/data/Airway/EXACT09/Training/CASE01/1093805', '/home/cs22-wangc/data/Airway/EXACT09/Training/CASE01/1093806', '/home/cs22-wangc/data/Airway/EXACT09/Training/CASE01/1093807', '/home/cs22-wangc/data/Airway/EXACT09/Training/CASE01/1093808', '/home/cs22-wangc/data/Airway/EXACT09/Training/CASE01/1093809', '/home/cs22-wangc/data/Airway/EXACT09/Training/CASE01/1093810', '/home/cs22-wangc/data/Airway/EXACT09/Training/CASE01/1093811', '/home/cs22-wangc/data/Airway/EXACT09/Training/CASE01/1093812', '/home/cs22-wangc/data/Airway/EXACT09/Training/CASE01/1093813', '/home/cs22-wangc/data/Airway/EXACT09/Training/CASE01/1093814', '/home/cs22-wangc/data/Airway/EXACT09/Training/CASE01/1093815', '/home/cs22-wangc/data/Airway/EXACT09/Training/CASE01/1093816', '/home/cs22-wangc/data/Airway/EXACT09/Training/CASE01/1093817', '/home/cs22-wangc/data/Airway/EXACT09/Training/CASE01/1093818', '/home/cs22-wangc/data/Airway/EXACT09/Training/CASE01/1093819', '/home/cs22-wangc/data/Airway/EXACT09/Training/CASE01/1093820', '/home/cs22-wangc/data/Airway/EXACT09/Training/CASE01/1093821', '/home/cs22-wangc/data/Airway/EXACT09/Training/CASE01/1093822', '/home/cs22-wangc/data/Airway/EXACT09/Training/CASE01/1093823', '/home/cs22-wangc/data/Airway/EXACT09/Training/CASE01/1093824', '/home/cs22-wangc/data/Airway/EXACT09/Training/CASE01/1093825', '/home/cs22-wangc/data/Airway/EXACT09/Training/CASE01/1093826', '/home/cs22-wangc/data/Airway/EXACT09/Training/CASE01/1093827', '/home/cs22-wangc/data/Airway/EXACT09/Training/CASE01/1093828', '/home/cs22-wangc/data/Airway/EXACT09/Training/CASE01/1093829', '/home/cs22-wangc/data/Airway/EXACT09/Training/CASE01/1093830', '/home/cs22-wangc/data/Airway/EXACT09/Training/CASE01/1093831', '/home/cs22-wangc/data/Airway/EXACT09/Training/CASE01/1093832', '/home/cs22-wangc/data/Airway/EXACT09/Training/CASE01/1093833', '/home/cs22-wangc/data/Airway/EXACT09/Training/CASE01/1093834', '/home/cs22-wangc/data/Airway/EXACT09/Training/CASE01/1093835', '/home/cs22-wangc/data/Airway/EXACT09/Training/CASE01/1093836', '/home/cs22-wangc/data/Airway/EXACT09/Training/CASE01/1093837', '/home/cs22-wangc/data/Airway/EXACT09/Training/CASE01/1093838', '/home/cs22-wangc/data/Airway/EXACT09/Training/CASE01/1093839', '/home/cs22-wangc/data/Airway/EXACT09/Training/CASE01/1093840', '/home/cs22-wangc/data/Airway/EXACT09/Training/CASE01/1093841', '/home/cs22-wangc/data/Airway/EXACT09/Training/CASE01/1093842', '/home/cs22-wangc/data/Airway/EXACT09/Training/CASE01/1093843', '/home/cs22-wangc/data/Airway/EXACT09/Training/CASE01/1093844', '/home/cs22-wangc/data/Airway/EXACT09/Training/CASE01/1093845', '/home/cs22-wangc/data/Airway/EXACT09/Training/CASE01/1093846', '/home/cs22-wangc/data/Airway/EXACT09/Training/CASE01/1093847', '/home/cs22-wangc/data/Airway/EXACT09/Training/CASE01/1093848', '/home/cs22-wangc/data/Airway/EXACT09/Training/CASE01/1093849', '/home/cs22-wangc/data/Airway/EXACT09/Training/CASE01/1093850', '/home/cs22-wangc/data/Airway/EXACT09/Training/CASE01/1093851', '/home/cs22-wangc/data/Airway/EXACT09/Training/CASE01/1093852', '/home/cs22-wangc/data/Airway/EXACT09/Training/CASE01/1093853', '/home/cs22-wangc/data/Airway/EXACT09/Training/CASE01/1093854', '/home/cs22-wangc/data/Airway/EXACT09/Training/CASE01/1093855', '/home/cs22-wangc/data/Airway/EXACT09/Training/CASE01/1093856', '/home/cs22-wangc/data/Airway/EXACT09/Training/CASE01/1093857', '/home/cs22-wangc/data/Airway/EXACT09/Training/CASE01/1093858', '/home/cs22-wangc/data/Airway/EXACT09/Training/CASE01/1093859', '/home/cs22-wangc/data/Airway/EXACT09/Training/CASE01/1093860', '/home/cs22-wangc/data/Airway/EXACT09/Training/CASE01/1093861', '/home/cs22-wangc/data/Airway/EXACT09/Training/CASE01/1093862', '/home/cs22-wangc/data/Airway/EXACT09/Training/CASE01/1093863', '/home/cs22-wangc/data/Airway/EXACT09/Training/CASE01/1093864', '/home/cs22-wangc/data/Airway/EXACT09/Training/CASE01/1093865', '/home/cs22-wangc/data/Airway/EXACT09/Training/CASE01/1093866', '/home/cs22-wangc/data/Airway/EXACT09/Training/CASE01/1093867', '/home/cs22-wangc/data/Airway/EXACT09/Training/CASE01/1093868', '/home/cs22-wangc/data/Airway/EXACT09/Training/CASE01/1093869', '/home/cs22-wangc/data/Airway/EXACT09/Training/CASE01/1093870', '/home/cs22-wangc/data/Airway/EXACT09/Training/CASE01/1093871', '/home/cs22-wangc/data/Airway/EXACT09/Training/CASE01/1093872', '/home/cs22-wangc/data/Airway/EXACT09/Training/CASE01/1093873', '/home/cs22-wangc/data/Airway/EXACT09/Training/CASE01/1093874', '/home/cs22-wangc/data/Airway/EXACT09/Training/CASE01/1093875', '/home/cs22-wangc/data/Airway/EXACT09/Training/CASE01/1093876', '/home/cs22-wangc/data/Airway/EXACT09/Training/CASE01/1093877', '/home/cs22-wangc/data/Airway/EXACT09/Training/CASE01/1093878', '/home/cs22-wangc/data/Airway/EXACT09/Training/CASE01/1093879', '/home/cs22-wangc/data/Airway/EXACT09/Training/CASE01/1093880', '/home/cs22-wangc/data/Airway/EXACT09/Training/CASE01/1093881', '/home/cs22-wangc/data/Airway/EXACT09/Training/CASE01/1093882', '/home/cs22-wangc/data/Airway/EXACT09/Training/CASE01/1093883', '/home/cs22-wangc/data/Airway/EXACT09/Training/CASE01/1093884', '/home/cs22-wangc/data/Airway/EXACT09/Training/CASE01/1093885', '/home/cs22-wangc/data/Airway/EXACT09/Training/CASE01/1093886', '/home/cs22-wangc/data/Airway/EXACT09/Training/CASE01/1093887', '/home/cs22-wangc/data/Airway/EXACT09/Training/CASE01/1093888', '/home/cs22-wangc/data/Airway/EXACT09/Training/CASE01/1093889', '/home/cs22-wangc/data/Airway/EXACT09/Training/CASE01/1093890', '/home/cs22-wangc/data/Airway/EXACT09/Training/CASE01/1093891', '/home/cs22-wangc/data/Airway/EXACT09/Training/CASE01/1093892', '/home/cs22-wangc/data/Airway/EXACT09/Training/CASE01/1093893', '/home/cs22-wangc/data/Airway/EXACT09/Training/CASE01/1093894', '/home/cs22-wangc/data/Airway/EXACT09/Training/CASE01/1093895', '/home/cs22-wangc/data/Airway/EXACT09/Training/CASE01/1093896', '/home/cs22-wangc/data/Airway/EXACT09/Training/CASE01/1093897', '/home/cs22-wangc/data/Airway/EXACT09/Training/CASE01/1093898', '/home/cs22-wangc/data/Airway/EXACT09/Training/CASE01/1093899', '/home/cs22-wangc/data/Airway/EXACT09/Training/CASE01/1093900', '/home/cs22-wangc/data/Airway/EXACT09/Training/CASE01/1093901', '/home/cs22-wangc/data/Airway/EXACT09/Training/CASE01/1093902', '/home/cs22-wangc/data/Airway/EXACT09/Training/CASE01/1093903', '/home/cs22-wangc/data/Airway/EXACT09/Training/CASE01/1093904', '/home/cs22-wangc/data/Airway/EXACT09/Training/CASE01/1093905', '/home/cs22-wangc/data/Airway/EXACT09/Training/CASE01/1093906', '/home/cs22-wangc/data/Airway/EXACT09/Training/CASE01/1093907', '/home/cs22-wangc/data/Airway/EXACT09/Training/CASE01/1093908', '/home/cs22-wangc/data/Airway/EXACT09/Training/CASE01/1093909', '/home/cs22-wangc/data/Airway/EXACT09/Training/CASE01/1093910', '/home/cs22-wangc/data/Airway/EXACT09/Training/CASE01/1093911', '/home/cs22-wangc/data/Airway/EXACT09/Training/CASE01/1093912', '/home/cs22-wangc/data/Airway/EXACT09/Training/CASE01/1093913', '/home/cs22-wangc/data/Airway/EXACT09/Training/CASE01/1093914', '/home/cs22-wangc/data/Airway/EXACT09/Training/CASE01/1093915', '/home/cs22-wangc/data/Airway/EXACT09/Training/CASE01/1093916', '/home/cs22-wangc/data/Airway/EXACT09/Training/CASE01/1093917', '/home/cs22-wangc/data/Airway/EXACT09/Training/CASE01/1093918', '/home/cs22-wangc/data/Airway/EXACT09/Training/CASE01/1093919', '/home/cs22-wangc/data/Airway/EXACT09/Training/CASE01/1093920', '/home/cs22-wangc/data/Airway/EXACT09/Training/CASE01/1093921', '/home/cs22-wangc/data/Airway/EXACT09/Training/CASE01/1093922', '/home/cs22-wangc/data/Airway/EXACT09/Training/CASE01/1093923', '/home/cs22-wangc/data/Airway/EXACT09/Training/CASE01/1093924', '/home/cs22-wangc/data/Airway/EXACT09/Training/CASE01/1093925', '/home/cs22-wangc/data/Airway/EXACT09/Training/CASE01/1093926', '/home/cs22-wangc/data/Airway/EXACT09/Training/CASE01/1093927', '/home/cs22-wangc/data/Airway/EXACT09/Training/CASE01/1093928', '/home/cs22-wangc/data/Airway/EXACT09/Training/CASE01/1093929', '/home/cs22-wangc/data/Airway/EXACT09/Training/CASE01/1093930', '/home/cs22-wangc/data/Airway/EXACT09/Training/CASE01/1093931', '/home/cs22-wangc/data/Airway/EXACT09/Training/CASE01/1093932', '/home/cs22-wangc/data/Airway/EXACT09/Training/CASE01/1093933', '/home/cs22-wangc/data/Airway/EXACT09/Training/CASE01/1093934', '/home/cs22-wangc/data/Airway/EXACT09/Training/CASE01/1093935', '/home/cs22-wangc/data/Airway/EXACT09/Training/CASE01/1093936', '/home/cs22-wangc/data/Airway/EXACT09/Training/CASE01/1093937', '/home/cs22-wangc/data/Airway/EXACT09/Training/CASE01/1093938', '/home/cs22-wangc/data/Airway/EXACT09/Training/CASE01/1093939', '/home/cs22-wangc/data/Airway/EXACT09/Training/CASE01/1093940', '/home/cs22-wangc/data/Airway/EXACT09/Training/CASE01/1093941', '/home/cs22-wangc/data/Airway/EXACT09/Training/CASE01/1093942', '/home/cs22-wangc/data/Airway/EXACT09/Training/CASE01/1093943', '/home/cs22-wangc/data/Airway/EXACT09/Training/CASE01/1093944', '/home/cs22-wangc/data/Airway/EXACT09/Training/CASE01/1093945', '/home/cs22-wangc/data/Airway/EXACT09/Training/CASE01/1093946', '/home/cs22-wangc/data/Airway/EXACT09/Training/CASE01/1093947', '/home/cs22-wangc/data/Airway/EXACT09/Training/CASE01/1093948', '/home/cs22-wangc/data/Airway/EXACT09/Training/CASE01/1093949', '/home/cs22-wangc/data/Airway/EXACT09/Training/CASE01/1093950', '/home/cs22-wangc/data/Airway/EXACT09/Training/CASE01/1093951', '/home/cs22-wangc/data/Airway/EXACT09/Training/CASE01/1093952', '/home/cs22-wangc/data/Airway/EXACT09/Training/CASE01/1093953', '/home/cs22-wangc/data/Airway/EXACT09/Training/CASE01/1093954', '/home/cs22-wangc/data/Airway/EXACT09/Training/CASE01/1093955', '/home/cs22-wangc/data/Airway/EXACT09/Training/CASE01/1093956', '/home/cs22-wangc/data/Airway/EXACT09/Training/CASE01/1093957', '/home/cs22-wangc/data/Airway/EXACT09/Training/CASE01/1093958', '/home/cs22-wangc/data/Airway/EXACT09/Training/CASE01/1093959', '/home/cs22-wangc/data/Airway/EXACT09/Training/CASE01/1093960', '/home/cs22-wangc/data/Airway/EXACT09/Training/CASE01/1093961', '/home/cs22-wangc/data/Airway/EXACT09/Training/CASE01/1093962', '/home/cs22-wangc/data/Airway/EXACT09/Training/CASE01/1093963', '/home/cs22-wangc/data/Airway/EXACT09/Training/CASE01/1093964', '/home/cs22-wangc/data/Airway/EXACT09/Training/CASE01/1093965', '/home/cs22-wangc/data/Airway/EXACT09/Training/CASE01/1093966', '/home/cs22-wangc/data/Airway/EXACT09/Training/CASE01/1093967', '/home/cs22-wangc/data/Airway/EXACT09/Training/CASE01/1093968', '/home/cs22-wangc/data/Airway/EXACT09/Training/CASE01/1093969', '/home/cs22-wangc/data/Airway/EXACT09/Training/CASE01/1093970', '/home/cs22-wangc/data/Airway/EXACT09/Training/CASE01/1093971', '/home/cs22-wangc/data/Airway/EXACT09/Training/CASE01/1093972', '/home/cs22-wangc/data/Airway/EXACT09/Training/CASE01/1093973', '/home/cs22-wangc/data/Airway/EXACT09/Training/CASE01/1093974', '/home/cs22-wangc/data/Airway/EXACT09/Training/CASE01/1093975', '/home/cs22-wangc/data/Airway/EXACT09/Training/CASE01/1093976', '/home/cs22-wangc/data/Airway/EXACT09/Training/CASE01/1093977', '/home/cs22-wangc/data/Airway/EXACT09/Training/CASE01/1093978', '/home/cs22-wangc/data/Airway/EXACT09/Training/CASE01/1093979', '/home/cs22-wangc/data/Airway/EXACT09/Training/CASE01/1093980', '/home/cs22-wangc/data/Airway/EXACT09/Training/CASE01/1093981', '/home/cs22-wangc/data/Airway/EXACT09/Training/CASE01/1093982', '/home/cs22-wangc/data/Airway/EXACT09/Training/CASE01/1093983', '/home/cs22-wangc/data/Airway/EXACT09/Training/CASE01/1093984', '/home/cs22-wangc/data/Airway/EXACT09/Training/CASE01/1093985', '/home/cs22-wangc/data/Airway/EXACT09/Training/CASE01/1093986', '/home/cs22-wangc/data/Airway/EXACT09/Training/CASE01/1093987', '/home/cs22-wangc/data/Airway/EXACT09/Training/CASE01/1093988', '/home/cs22-wangc/data/Airway/EXACT09/Training/CASE01/1093989', '/home/cs22-wangc/data/Airway/EXACT09/Training/CASE01/1093990', '/home/cs22-wangc/data/Airway/EXACT09/Training/CASE01/1093991', '/home/cs22-wangc/data/Airway/EXACT09/Training/CASE01/1093992', '/home/cs22-wangc/data/Airway/EXACT09/Training/CASE01/1093993', '/home/cs22-wangc/data/Airway/EXACT09/Training/CASE01/1093994', '/home/cs22-wangc/data/Airway/EXACT09/Training/CASE01/1093995', '/home/cs22-wangc/data/Airway/EXACT09/Training/CASE01/1093996', '/home/cs22-wangc/data/Airway/EXACT09/Training/CASE01/1093997', '/home/cs22-wangc/data/Airway/EXACT09/Training/CASE01/1093998', '/home/cs22-wangc/data/Airway/EXACT09/Training/CASE01/1093999', '/home/cs22-wangc/data/Airway/EXACT09/Training/CASE01/1094000', '/home/cs22-wangc/data/Airway/EXACT09/Training/CASE01/1094001', '/home/cs22-wangc/data/Airway/EXACT09/Training/CASE01/1094002', '/home/cs22-wangc/data/Airway/EXACT09/Training/CASE01/1094003', '/home/cs22-wangc/data/Airway/EXACT09/Training/CASE01/1094004', '/home/cs22-wangc/data/Airway/EXACT09/Training/CASE01/1094005', '/home/cs22-wangc/data/Airway/EXACT09/Training/CASE01/1094006', '/home/cs22-wangc/data/Airway/EXACT09/Training/CASE01/1094007', '/home/cs22-wangc/data/Airway/EXACT09/Training/CASE01/1094008', '/home/cs22-wangc/data/Airway/EXACT09/Training/CASE01/1094009', '/home/cs22-wangc/data/Airway/EXACT09/Training/CASE01/1094010', '/home/cs22-wangc/data/Airway/EXACT09/Training/CASE01/1094011', '/home/cs22-wangc/data/Airway/EXACT09/Training/CASE01/1094012', '/home/cs22-wangc/data/Airway/EXACT09/Training/CASE01/1094013', '/home/cs22-wangc/data/Airway/EXACT09/Training/CASE01/1094014', '/home/cs22-wangc/data/Airway/EXACT09/Training/CASE01/1094015', '/home/cs22-wangc/data/Airway/EXACT09/Training/CASE01/1094016', '/home/cs22-wangc/data/Airway/EXACT09/Training/CASE01/1094017', '/home/cs22-wangc/data/Airway/EXACT09/Training/CASE01/1094018', '/home/cs22-wangc/data/Airway/EXACT09/Training/CASE01/1094019', '/home/cs22-wangc/data/Airway/EXACT09/Training/CASE01/1094020', '/home/cs22-wangc/data/Airway/EXACT09/Training/CASE01/1094021', '/home/cs22-wangc/data/Airway/EXACT09/Training/CASE01/1094022', '/home/cs22-wangc/data/Airway/EXACT09/Training/CASE01/1094023', '/home/cs22-wangc/data/Airway/EXACT09/Training/CASE01/1094024', '/home/cs22-wangc/data/Airway/EXACT09/Training/CASE01/1094025', '/home/cs22-wangc/data/Airway/EXACT09/Training/CASE01/1094026', '/home/cs22-wangc/data/Airway/EXACT09/Training/CASE01/1094027', '/home/cs22-wangc/data/Airway/EXACT09/Training/CASE01/1094028', '/home/cs22-wangc/data/Airway/EXACT09/Training/CASE01/1094029', '/home/cs22-wangc/data/Airway/EXACT09/Training/CASE01/1094030', '/home/cs22-wangc/data/Airway/EXACT09/Training/CASE01/1094031', '/home/cs22-wangc/data/Airway/EXACT09/Training/CASE01/1094032', '/home/cs22-wangc/data/Airway/EXACT09/Training/CASE01/1094033', '/home/cs22-wangc/data/Airway/EXACT09/Training/CASE01/1094034', '/home/cs22-wangc/data/Airway/EXACT09/Training/CASE01/1094035', '/home/cs22-wangc/data/Airway/EXACT09/Training/CASE01/1094036', '/home/cs22-wangc/data/Airway/EXACT09/Training/CASE01/1094037', '/home/cs22-wangc/data/Airway/EXACT09/Training/CASE01/1094038', '/home/cs22-wangc/data/Airway/EXACT09/Training/CASE01/1094039', '/home/cs22-wangc/data/Airway/EXACT09/Training/CASE01/1094040', '/home/cs22-wangc/data/Airway/EXACT09/Training/CASE01/1094041', '/home/cs22-wangc/data/Airway/EXACT09/Training/CASE01/1094042', '/home/cs22-wangc/data/Airway/EXACT09/Training/CASE01/1094043', '/home/cs22-wangc/data/Airway/EXACT09/Training/CASE01/1094044', '/home/cs22-wangc/data/Airway/EXACT09/Training/CASE01/1094045', '/home/cs22-wangc/data/Airway/EXACT09/Training/CASE01/1094046', '/home/cs22-wangc/data/Airway/EXACT09/Training/CASE01/1094047', '/home/cs22-wangc/data/Airway/EXACT09/Training/CASE01/1094048', '/home/cs22-wangc/data/Airway/EXACT09/Training/CASE01/1094049', '/home/cs22-wangc/data/Airway/EXACT09/Training/CASE01/1094050', '/home/cs22-wangc/data/Airway/EXACT09/Training/CASE01/1094051', '/home/cs22-wangc/data/Airway/EXACT09/Training/CASE01/1094052', '/home/cs22-wangc/data/Airway/EXACT09/Training/CASE01/1094053', '/home/cs22-wangc/data/Airway/EXACT09/Training/CASE01/1094054', '/home/cs22-wangc/data/Airway/EXACT09/Training/CASE01/1094055', '/home/cs22-wangc/data/Airway/EXACT09/Training/CASE01/1094056', '/home/cs22-wangc/data/Airway/EXACT09/Training/CASE01/1094057', '/home/cs22-wangc/data/Airway/EXACT09/Training/CASE01/1094058', '/home/cs22-wangc/data/Airway/EXACT09/Training/CASE01/1094059', '/home/cs22-wangc/data/Airway/EXACT09/Training/CASE01/1094060', '/home/cs22-wangc/data/Airway/EXACT09/Training/CASE01/1094061', '/home/cs22-wangc/data/Airway/EXACT09/Training/CASE01/1094062', '/home/cs22-wangc/data/Airway/EXACT09/Training/CASE01/1094063', '/home/cs22-wangc/data/Airway/EXACT09/Training/CASE01/1094064', '/home/cs22-wangc/data/Airway/EXACT09/Training/CASE01/1094065', '/home/cs22-wangc/data/Airway/EXACT09/Training/CASE01/1094066', '/home/cs22-wangc/data/Airway/EXACT09/Training/CASE01/1094067', '/home/cs22-wangc/data/Airway/EXACT09/Training/CASE01/1094068', '/home/cs22-wangc/data/Airway/EXACT09/Training/CASE01/1094069', '/home/cs22-wangc/data/Airway/EXACT09/Training/CASE01/1094070', '/home/cs22-wangc/data/Airway/EXACT09/Training/CASE01/1094071', '/home/cs22-wangc/data/Airway/EXACT09/Training/CASE01/1094072', '/home/cs22-wangc/data/Airway/EXACT09/Training/CASE01/1094073', '/home/cs22-wangc/data/Airway/EXACT09/Training/CASE01/1094074', '/home/cs22-wangc/data/Airway/EXACT09/Training/CASE01/1094075', '/home/cs22-wangc/data/Airway/EXACT09/Training/CASE01/1094076', '/home/cs22-wangc/data/Airway/EXACT09/Training/CASE01/1094077', '/home/cs22-wangc/data/Airway/EXACT09/Training/CASE01/1094078', '/home/cs22-wangc/data/Airway/EXACT09/Training/CASE01/1094079', '/home/cs22-wangc/data/Airway/EXACT09/Training/CASE01/1094080', '/home/cs22-wangc/data/Airway/EXACT09/Training/CASE01/1094081', '/home/cs22-wangc/data/Airway/EXACT09/Training/CASE01/1094082', '/home/cs22-wangc/data/Airway/EXACT09/Training/CASE01/1094083', '/home/cs22-wangc/data/Airway/EXACT09/Training/CASE01/1094084', '/home/cs22-wangc/data/Airway/EXACT09/Training/CASE01/1094085', '/home/cs22-wangc/data/Airway/EXACT09/Training/CASE01/1094086', '/home/cs22-wangc/data/Airway/EXACT09/Training/CASE01/1094087', '/home/cs22-wangc/data/Airway/EXACT09/Training/CASE01/1094088', '/home/cs22-wangc/data/Airway/EXACT09/Training/CASE01/1094089', '/home/cs22-wangc/data/Airway/EXACT09/Training/CASE01/1094090', '/home/cs22-wangc/data/Airway/EXACT09/Training/CASE01/1094091', '/home/cs22-wangc/data/Airway/EXACT09/Training/CASE01/1094092', '/home/cs22-wangc/data/Airway/EXACT09/Training/CASE01/1094093', '/home/cs22-wangc/data/Airway/EXACT09/Training/CASE01/1094094', '/home/cs22-wangc/data/Airway/EXACT09/Training/CASE01/1094095', '/home/cs22-wangc/data/Airway/EXACT09/Training/CASE01/1094096', '/home/cs22-wangc/data/Airway/EXACT09/Training/CASE01/1094097', '/home/cs22-wangc/data/Airway/EXACT09/Training/CASE01/1094098', '/home/cs22-wangc/data/Airway/EXACT09/Training/CASE01/1094099', '/home/cs22-wangc/data/Airway/EXACT09/Training/CASE01/1094100', '/home/cs22-wangc/data/Airway/EXACT09/Training/CASE01/1094101', '/home/cs22-wangc/data/Airway/EXACT09/Training/CASE01/1094102', '/home/cs22-wangc/data/Airway/EXACT09/Training/CASE01/1094103', '/home/cs22-wangc/data/Airway/EXACT09/Training/CASE01/1094104', '/home/cs22-wangc/data/Airway/EXACT09/Training/CASE01/1094105', '/home/cs22-wangc/data/Airway/EXACT09/Training/CASE01/1094106', '/home/cs22-wangc/data/Airway/EXACT09/Training/CASE01/1094107', '/home/cs22-wangc/data/Airway/EXACT09/Training/CASE01/1094108', '/home/cs22-wangc/data/Airway/EXACT09/Training/CASE01/1094109', '/home/cs22-wangc/data/Airway/EXACT09/Training/CASE01/1094110', '/home/cs22-wangc/data/Airway/EXACT09/Training/CASE01/1094111', '/home/cs22-wangc/data/Airway/EXACT09/Training/CASE01/1094112', '/home/cs22-wangc/data/Airway/EXACT09/Training/CASE01/1094113', '/home/cs22-wangc/data/Airway/EXACT09/Training/CASE01/1094114', '/home/cs22-wangc/data/Airway/EXACT09/Training/CASE01/1094115', '/home/cs22-wangc/data/Airway/EXACT09/Training/CASE01/1094116', '/home/cs22-wangc/data/Airway/EXACT09/Training/CASE01/1094117', '/home/cs22-wangc/data/Airway/EXACT09/Training/CASE01/1094118', '/home/cs22-wangc/data/Airway/EXACT09/Training/CASE01/1094119', '/home/cs22-wangc/data/Airway/EXACT09/Training/CASE01/1094120', '/home/cs22-wangc/data/Airway/EXACT09/Training/CASE01/1094121', '/home/cs22-wangc/data/Airway/EXACT09/Training/CASE01/1094122', '/home/cs22-wangc/data/Airway/EXACT09/Training/CASE01/1094123', '/home/cs22-wangc/data/Airway/EXACT09/Training/CASE01/1094124', '/home/cs22-wangc/data/Airway/EXACT09/Training/CASE01/1094125', '/home/cs22-wangc/data/Airway/EXACT09/Training/CASE01/1094126', '/home/cs22-wangc/data/Airway/EXACT09/Training/CASE01/1094127', '/home/cs22-wangc/data/Airway/EXACT09/Training/CASE01/1094128', '/home/cs22-wangc/data/Airway/EXACT09/Training/CASE01/1094129', '/home/cs22-wangc/data/Airway/EXACT09/Training/CASE01/1094130', '/home/cs22-wangc/data/Airway/EXACT09/Training/CASE01/1094131', '/home/cs22-wangc/data/Airway/EXACT09/Training/CASE01/1094132', '/home/cs22-wangc/data/Airway/EXACT09/Training/CASE01/1094133', '/home/cs22-wangc/data/Airway/EXACT09/Training/CASE01/1094134', '/home/cs22-wangc/data/Airway/EXACT09/Training/CASE01/1094135', '/home/cs22-wangc/data/Airway/EXACT09/Training/CASE01/1094136', '/home/cs22-wangc/data/Airway/EXACT09/Training/CASE01/1094137', '/home/cs22-wangc/data/Airway/EXACT09/Training/CASE01/1094138', '/home/cs22-wangc/data/Airway/EXACT09/Training/CASE01/1094139', '/home/cs22-wangc/data/Airway/EXACT09/Training/CASE01/1094140', '/home/cs22-wangc/data/Airway/EXACT09/Training/CASE01/1094141', '/home/cs22-wangc/data/Airway/EXACT09/Training/CASE01/1094142', '/home/cs22-wangc/data/Airway/EXACT09/Training/CASE01/1094143', '/home/cs22-wangc/data/Airway/EXACT09/Training/CASE01/1094144', '/home/cs22-wangc/data/Airway/EXACT09/Training/CASE01/1094145', '/home/cs22-wangc/data/Airway/EXACT09/Training/CASE01/1094146', '/home/cs22-wangc/data/Airway/EXACT09/Training/CASE01/1094147', '/home/cs22-wangc/data/Airway/EXACT09/Training/CASE01/1094148', '/home/cs22-wangc/data/Airway/EXACT09/Training/CASE01/1094149', '/home/cs22-wangc/data/Airway/EXACT09/Training/CASE01/1094150', '/home/cs22-wangc/data/Airway/EXACT09/Training/CASE01/1094151', '/home/cs22-wangc/data/Airway/EXACT09/Training/CASE01/1094152', '/home/cs22-wangc/data/Airway/EXACT09/Training/CASE01/1094153', '/home/cs22-wangc/data/Airway/EXACT09/Training/CASE01/1094154', '/home/cs22-wangc/data/Airway/EXACT09/Training/CASE01/1094155', '/home/cs22-wangc/data/Airway/EXACT09/Training/CASE01/1094156', '/home/cs22-wangc/data/Airway/EXACT09/Training/CASE01/1094157', '/home/cs22-wangc/data/Airway/EXACT09/Training/CASE01/1094158', '/home/cs22-wangc/data/Airway/EXACT09/Training/CASE01/1094159', '/home/cs22-wangc/data/Airway/EXACT09/Training/CASE01/1094160', '/home/cs22-wangc/data/Airway/EXACT09/Training/CASE01/1094161', '/home/cs22-wangc/data/Airway/EXACT09/Training/CASE01/1094162', '/home/cs22-wangc/data/Airway/EXACT09/Training/CASE01/1094163', '/home/cs22-wangc/data/Airway/EXACT09/Training/CASE01/1094164', '/home/cs22-wangc/data/Airway/EXACT09/Training/CASE01/1094165', '/home/cs22-wangc/data/Airway/EXACT09/Training/CASE01/1094166', '/home/cs22-wangc/data/Airway/EXACT09/Training/CASE01/1094167', '/home/cs22-wangc/data/Airway/EXACT09/Training/CASE01/1094168', '/home/cs22-wangc/data/Airway/EXACT09/Training/CASE01/1094169', '/home/cs22-wangc/data/Airway/EXACT09/Training/CASE01/1094170', '/home/cs22-wangc/data/Airway/EXACT09/Training/CASE01/1094171', '/home/cs22-wangc/data/Airway/EXACT09/Training/CASE01/1094172', '/home/cs22-wangc/data/Airway/EXACT09/Training/CASE01/1094173', '/home/cs22-wangc/data/Airway/EXACT09/Training/CASE01/1094174', '/home/cs22-wangc/data/Airway/EXACT09/Training/CASE01/1094175', '/home/cs22-wangc/data/Airway/EXACT09/Training/CASE01/1094176', '/home/cs22-wangc/data/Airway/EXACT09/Training/CASE01/1094177', '/home/cs22-wangc/data/Airway/EXACT09/Training/CASE01/1094178', '/home/cs22-wangc/data/Airway/EXACT09/Training/CASE01/1094179', '/home/cs22-wangc/data/Airway/EXACT09/Training/CASE01/1094180', '/home/cs22-wangc/data/Airway/EXACT09/Training/CASE01/1094181', '/home/cs22-wangc/data/Airway/EXACT09/Training/CASE01/1094182', '/home/cs22-wangc/data/Airway/EXACT09/Training/CASE01/1094183', '/home/cs22-wangc/data/Airway/EXACT09/Training/CASE01/1094184', '/home/cs22-wangc/data/Airway/EXACT09/Training/CASE01/1094185', '/home/cs22-wangc/data/Airway/EXACT09/Training/CASE01/1094186', '/home/cs22-wangc/data/Airway/EXACT09/Training/CASE01/1094187', '/home/cs22-wangc/data/Airway/EXACT09/Training/CASE01/1094188', '/home/cs22-wangc/data/Airway/EXACT09/Training/CASE01/1094189', '/home/cs22-wangc/data/Airway/EXACT09/Training/CASE01/1094190', '/home/cs22-wangc/data/Airway/EXACT09/Training/CASE01/1094191', '/home/cs22-wangc/data/Airway/EXACT09/Training/CASE01/1094192', '/home/cs22-wangc/data/Airway/EXACT09/Training/CASE01/1094193', '/home/cs22-wangc/data/Airway/EXACT09/Training/CASE01/1094194', '/home/cs22-wangc/data/Airway/EXACT09/Training/CASE01/1094195', '/home/cs22-wangc/data/Airway/EXACT09/Training/CASE01/1094196', '/home/cs22-wangc/data/Airway/EXACT09/Training/CASE01/1094197', '/home/cs22-wangc/data/Airway/EXACT09/Training/CASE01/1094198', '/home/cs22-wangc/data/Airway/EXACT09/Training/CASE01/1094199', '/home/cs22-wangc/data/Airway/EXACT09/Training/CASE01/1094200', '/home/cs22-wangc/data/Airway/EXACT09/Training/CASE01/1094201', '/home/cs22-wangc/data/Airway/EXACT09/Training/CASE01/1094202', '/home/cs22-wangc/data/Airway/EXACT09/Training/CASE01/1094203', '/home/cs22-wangc/data/Airway/EXACT09/Training/CASE01/1094204', '/home/cs22-wangc/data/Airway/EXACT09/Training/CASE01/1094205', '/home/cs22-wangc/data/Airway/EXACT09/Training/CASE01/1094206', '/home/cs22-wangc/data/Airway/EXACT09/Training/CASE01/1094207', '/home/cs22-wangc/data/Airway/EXACT09/Training/CASE01/1094208', '/home/cs22-wangc/data/Airway/EXACT09/Training/CASE01/1094209', '/home/cs22-wangc/data/Airway/EXACT09/Training/CASE01/1094210', '/home/cs22-wangc/data/Airway/EXACT09/Training/CASE01/1094211', '/home/cs22-wangc/data/Airway/EXACT09/Training/CASE01/1094212', '/home/cs22-wangc/data/Airway/EXACT09/Training/CASE01/1094213', '/home/cs22-wangc/data/Airway/EXACT09/Training/CASE01/1094214', '/home/cs22-wangc/data/Airway/EXACT09/Training/CASE01/1094215', '/home/cs22-wangc/data/Airway/EXACT09/Training/CASE01/1094216', '/home/cs22-wangc/data/Airway/EXACT09/Training/CASE01/1094217', '/home/cs22-wangc/data/Airway/EXACT09/Training/CASE01/1094218', '/home/cs22-wangc/data/Airway/EXACT09/Training/CASE01/1094219', '/home/cs22-wangc/data/Airway/EXACT09/Training/CASE01/1094220', '/home/cs22-wangc/data/Airway/EXACT09/Training/CASE01/1094221', '/home/cs22-wangc/data/Airway/EXACT09/Training/CASE01/1094222', '/home/cs22-wangc/data/Airway/EXACT09/Training/CASE01/1094223', '/home/cs22-wangc/data/Airway/EXACT09/Training/CASE01/1094224', '/home/cs22-wangc/data/Airway/EXACT09/Training/CASE01/1094225', '/home/cs22-wangc/data/Airway/EXACT09/Training/CASE01/1094226', '/home/cs22-wangc/data/Airway/EXACT09/Training/CASE01/1094227', '/home/cs22-wangc/data/Airway/EXACT09/Training/CASE01/1094228', '/home/cs22-wangc/data/Airway/EXACT09/Training/CASE01/1094229', '/home/cs22-wangc/data/Airway/EXACT09/Training/CASE01/1094230', '/home/cs22-wangc/data/Airway/EXACT09/Training/CASE01/1094231', '/home/cs22-wangc/data/Airway/EXACT09/Training/CASE01/1094232', '/home/cs22-wangc/data/Airway/EXACT09/Training/CASE01/1094233', '/home/cs22-wangc/data/Airway/EXACT09/Training/CASE01/1094234', '/home/cs22-wangc/data/Airway/EXACT09/Training/CASE01/1094235', '/home/cs22-wangc/data/Airway/EXACT09/Training/CASE01/1094236', '/home/cs22-wangc/data/Airway/EXACT09/Training/CASE01/1094237', '/home/cs22-wangc/data/Airway/EXACT09/Training/CASE01/1094238', '/home/cs22-wangc/data/Airway/EXACT09/Training/CASE01/1094239', '/home/cs22-wangc/data/Airway/EXACT09/Training/CASE01/1094240', '/home/cs22-wangc/data/Airway/EXACT09/Training/CASE01/1094241', '/home/cs22-wangc/data/Airway/EXACT09/Training/CASE01/1094242', '/home/cs22-wangc/data/Airway/EXACT09/Training/CASE01/1094243', '/home/cs22-wangc/data/Airway/EXACT09/Training/CASE01/1094244', '/home/cs22-wangc/data/Airway/EXACT09/Training/CASE01/1094245', '/home/cs22-wangc/data/Airway/EXACT09/Training/CASE01/1094246', '/home/cs22-wangc/data/Airway/EXACT09/Training/CASE01/1094247', '/home/cs22-wangc/data/Airway/EXACT09/Training/CASE01/1094248', '/home/cs22-wangc/data/Airway/EXACT09/Training/CASE01/1094249', '/home/cs22-wangc/data/Airway/EXACT09/Training/CASE01/1094250', '/home/cs22-wangc/data/Airway/EXACT09/Training/CASE01/1094251', '/home/cs22-wangc/data/Airway/EXACT09/Training/CASE01/1094252', '/home/cs22-wangc/data/Airway/EXACT09/Training/CASE01/1094253', '/home/cs22-wangc/data/Airway/EXACT09/Training/CASE01/1094254', '/home/cs22-wangc/data/Airway/EXACT09/Training/CASE01/1094255', '/home/cs22-wangc/data/Airway/EXACT09/Training/CASE01/1094256', '/home/cs22-wangc/data/Airway/EXACT09/Training/CASE01/1094257', '/home/cs22-wangc/data/Airway/EXACT09/Training/CASE01/1094258', '/home/cs22-wangc/data/Airway/EXACT09/Training/CASE01/1094259', '/home/cs22-wangc/data/Airway/EXACT09/Training/CASE01/1094260', '/home/cs22-wangc/data/Airway/EXACT09/Training/CASE01/1094261', '/home/cs22-wangc/data/Airway/EXACT09/Training/CASE01/1094262', '/home/cs22-wangc/data/Airway/EXACT09/Training/CASE01/1094263', '/home/cs22-wangc/data/Airway/EXACT09/Training/CASE01/1094264', '/home/cs22-wangc/data/Airway/EXACT09/Training/CASE01/1094265', '/home/cs22-wangc/data/Airway/EXACT09/Training/CASE01/1094266', '/home/cs22-wangc/data/Airway/EXACT09/Training/CASE01/1094267', '/home/cs22-wangc/data/Airway/EXACT09/Training/CASE01/1094268', '/home/cs22-wangc/data/Airway/EXACT09/Training/CASE01/1094269', '/home/cs22-wangc/data/Airway/EXACT09/Training/CASE01/1094270', '/home/cs22-wangc/data/Airway/EXACT09/Training/CASE01/1094271', '/home/cs22-wangc/data/Airway/EXACT09/Training/CASE01/1094272', '/home/cs22-wangc/data/Airway/EXACT09/Training/CASE01/1094273', '/home/cs22-wangc/data/Airway/EXACT09/Training/CASE01/1094274', '/home/cs22-wangc/data/Airway/EXACT09/Training/CASE01/1094275', '/home/cs22-wangc/data/Airway/EXACT09/Training/CASE01/1094276', '/home/cs22-wangc/data/Airway/EXACT09/Training/CASE01/1094277', '/home/cs22-wangc/data/Airway/EXACT09/Training/CASE01/1094278', '/home/cs22-wangc/data/Airway/EXACT09/Training/CASE01/1094279', '/home/cs22-wangc/data/Airway/EXACT09/Training/CASE01/1094280', '/home/cs22-wangc/data/Airway/EXACT09/Training/CASE01/1094281', '/home/cs22-wangc/data/Airway/EXACT09/Training/CASE01/1094282', '/home/cs22-wangc/data/Airway/EXACT09/Training/CASE01/1094283', '/home/cs22-wangc/data/Airway/EXACT09/Training/CASE01/1094284', '/home/cs22-wangc/data/Airway/EXACT09/Training/CASE01/1094285', '/home/cs22-wangc/data/Airway/EXACT09/Training/CASE01/1094286', '/home/cs22-wangc/data/Airway/EXACT09/Training/CASE01/1094287', '/home/cs22-wangc/data/Airway/EXACT09/Training/CASE01/1094288', '/home/cs22-wangc/data/Airway/EXACT09/Training/CASE01/1094289', '/home/cs22-wangc/data/Airway/EXACT09/Training/CASE01/1094290', '/home/cs22-wangc/data/Airway/EXACT09/Training/CASE01/1094291', '/home/cs22-wangc/data/Airway/EXACT09/Training/CASE01/1094292', '/home/cs22-wangc/data/Airway/EXACT09/Training/CASE01/1094293', '/home/cs22-wangc/data/Airway/EXACT09/Training/CASE01/1094294', '/home/cs22-wangc/data/Airway/EXACT09/Training/CASE01/1094295', '/home/cs22-wangc/data/Airway/EXACT09/Training/CASE01/1094296', '/home/cs22-wangc/data/Airway/EXACT09/Training/CASE01/1094297', '/home/cs22-wangc/data/Airway/EXACT09/Training/CASE01/1094298', '/home/cs22-wangc/data/Airway/EXACT09/Training/CASE01/1094299', '/home/cs22-wangc/data/Airway/EXACT09/Training/CASE01/1094300', '/home/cs22-wangc/data/Airway/EXACT09/Training/CASE01/1094301', '/home/cs22-wangc/data/Airway/EXACT09/Training/CASE01/1094302', '/home/cs22-wangc/data/Airway/EXACT09/Training/CASE01/1094303', '/home/cs22-wangc/data/Airway/EXACT09/Training/CASE01/1094304', '/home/cs22-wangc/data/Airway/EXACT09/Training/CASE01/1094305', '/home/cs22-wangc/data/Airway/EXACT09/Training/CASE01/1094306', '/home/cs22-wangc/data/Airway/EXACT09/Training/CASE01/1094307', '/home/cs22-wangc/data/Airway/EXACT09/Training/CASE01/1094308', '/home/cs22-wangc/data/Airway/EXACT09/Training/CASE01/1094309', '/home/cs22-wangc/data/Airway/EXACT09/Training/CASE01/1094310', '/home/cs22-wangc/data/Airway/EXACT09/Training/CASE01/1094311', '/home/cs22-wangc/data/Airway/EXACT09/Training/CASE01/1094312', '/home/cs22-wangc/data/Airway/EXACT09/Training/CASE01/1094313', '/home/cs22-wangc/data/Airway/EXACT09/Training/CASE01/1094314', '/home/cs22-wangc/data/Airway/EXACT09/Training/CASE01/1094315', '/home/cs22-wangc/data/Airway/EXACT09/Training/CASE01/1094316', '/home/cs22-wangc/data/Airway/EXACT09/Training/CASE01/1094317', '/home/cs22-wangc/data/Airway/EXACT09/Training/CASE01/1094318', '/home/cs22-wangc/data/Airway/EXACT09/Training/CASE01/1094319', '/home/cs22-wangc/data/Airway/EXACT09/Training/CASE01/1094320', '/home/cs22-wangc/data/Airway/EXACT09/Training/CASE01/1094321', '/home/cs22-wangc/data/Airway/EXACT09/Training/CASE01/1094322', '/home/cs22-wangc/data/Airway/EXACT09/Training/CASE01/1094323', '/home/cs22-wangc/data/Airway/EXACT09/Training/CASE01/1094324', '/home/cs22-wangc/data/Airway/EXACT09/Training/CASE01/1094325', '/home/cs22-wangc/data/Airway/EXACT09/Training/CASE01/1094326', '/home/cs22-wangc/data/Airway/EXACT09/Training/CASE01/1094327', '/home/cs22-wangc/data/Airway/EXACT09/Training/CASE01/1094328', '/home/cs22-wangc/data/Airway/EXACT09/Training/CASE01/1094329', '/home/cs22-wangc/data/Airway/EXACT09/Training/CASE01/1094330', '/home/cs22-wangc/data/Airway/EXACT09/Training/CASE01/1094331', '/home/cs22-wangc/data/Airway/EXACT09/Training/CASE01/1094332', '/home/cs22-wangc/data/Airway/EXACT09/Training/CASE01/1094333', '/home/cs22-wangc/data/Airway/EXACT09/Training/CASE01/1094334', '/home/cs22-wangc/data/Airway/EXACT09/Training/CASE01/1094335', '/home/cs22-wangc/data/Airway/EXACT09/Training/CASE01/1094336', '/home/cs22-wangc/data/Airway/EXACT09/Training/CASE01/1094337', '/home/cs22-wangc/data/Airway/EXACT09/Training/CASE01/1094338', '/home/cs22-wangc/data/Airway/EXACT09/Training/CASE01/1094339', '/home/cs22-wangc/data/Airway/EXACT09/Training/CASE01/1094340', '/home/cs22-wangc/data/Airway/EXACT09/Training/CASE01/1094341', '/home/cs22-wangc/data/Airway/EXACT09/Training/CASE01/1094342', '/home/cs22-wangc/data/Airway/EXACT09/Training/CASE01/1094343', '/home/cs22-wangc/data/Airway/EXACT09/Training/CASE01/1094344', '/home/cs22-wangc/data/Airway/EXACT09/Training/CASE01/1094345', '/home/cs22-wangc/data/Airway/EXACT09/Training/CASE01/1094346', '/home/cs22-wangc/data/Airway/EXACT09/Training/CASE01/1094347', '/home/cs22-wangc/data/Airway/EXACT09/Training/CASE01/1094348', '/home/cs22-wangc/data/Airway/EXACT09/Training/CASE01/1094349', '/home/cs22-wangc/data/Airway/EXACT09/Training/CASE01/1094350', '/home/cs22-wangc/data/Airway/EXACT09/Training/CASE01/1094351', '/home/cs22-wangc/data/Airway/EXACT09/Training/CASE01/1094352', '/home/cs22-wangc/data/Airway/EXACT09/Training/CASE01/1094353', '/home/cs22-wangc/data/Airway/EXACT09/Training/CASE01/1094354', '/home/cs22-wangc/data/Airway/EXACT09/Training/CASE01/1094355', '/home/cs22-wangc/data/Airway/EXACT09/Training/CASE01/1094356', '/home/cs22-wangc/data/Airway/EXACT09/Training/CASE01/1094357', '/home/cs22-wangc/data/Airway/EXACT09/Training/CASE01/1094358', '/home/cs22-wangc/data/Airway/EXACT09/Training/CASE01/1094359', '/home/cs22-wangc/data/Airway/EXACT09/Training/CASE01/1094360', '/home/cs22-wangc/data/Airway/EXACT09/Training/CASE01/1094361', '/home/cs22-wangc/data/Airway/EXACT09/Training/CASE01/1094362', '/home/cs22-wangc/data/Airway/EXACT09/Training/CASE01/1094363', '/home/cs22-wangc/data/Airway/EXACT09/Training/CASE01/1094364', '/home/cs22-wangc/data/Airway/EXACT09/Training/CASE01/1094365', '/home/cs22-wangc/data/Airway/EXACT09/Training/CASE01/1094366', '/home/cs22-wangc/data/Airway/EXACT09/Training/CASE01/1094367', '/home/cs22-wangc/data/Airway/EXACT09/Training/CASE01/1094368']\n"
     ]
    },
    {
     "ename": "AssertionError",
     "evalue": "",
     "output_type": "error",
     "traceback": [
      "\u001b[0;31m---------------------------------------------------------------------------\u001b[0m",
      "\u001b[0;31mAssertionError\u001b[0m                            Traceback (most recent call last)",
      "\u001b[0;32m/tmp/ipykernel_26594/709025112.py\u001b[0m in \u001b[0;36m<module>\u001b[0;34m\u001b[0m\n\u001b[1;32m      2\u001b[0m     \u001b[0mprint\u001b[0m\u001b[0;34m(\u001b[0m\u001b[0mkey\u001b[0m\u001b[0;34m)\u001b[0m\u001b[0;34m\u001b[0m\u001b[0;34m\u001b[0m\u001b[0m\n\u001b[1;32m      3\u001b[0m     \u001b[0mprint\u001b[0m\u001b[0;34m(\u001b[0m\u001b[0mvalue\u001b[0m\u001b[0;34m)\u001b[0m\u001b[0;34m\u001b[0m\u001b[0;34m\u001b[0m\u001b[0m\n\u001b[0;32m----> 4\u001b[0;31m     \u001b[0;32massert\u001b[0m \u001b[0;32mFalse\u001b[0m\u001b[0;34m\u001b[0m\u001b[0;34m\u001b[0m\u001b[0m\n\u001b[0m",
      "\u001b[0;31mAssertionError\u001b[0m: "
     ]
    }
   ],
   "source": [
    "for key,value in train_case_dict.items():\n",
    "    print(key)\n",
    "    print(value)\n",
    "    assert False\n",
    "    #value是一个列表，保存了CASE01所有image的路径"
   ]
  },
  {
   "cell_type": "code",
   "execution_count": null,
   "id": "44985e9e",
   "metadata": {},
   "outputs": [],
   "source": [
    "# DICOM 是医学数字成像和通信标准的缩写，全称是Digital Imaging and Communications in Medicine。\n",
    "# DICOM 文件是一种专门用于医学成像数据的文件格式，包含医学图像和相关的元数据，例如患者信息、成像设备信息、成像时间和像素值等。\n",
    "# DICOM 文件可以包含多个图像序列和多个数据集，因此在医学领域中广泛应用于各种医学成像设备，如X光、CT扫描、MRI等。\n",
    "\n",
    "# DICOM 文件的信息包括但不限于以下几个方面：\n",
    "\n",
    "# 患者信息：如姓名、性别、年龄、身高、体重等。\n",
    "# 影像检查信息：如检查类型、检查部位、成像设备厂商等。\n",
    "# 图像数据：如图像像素值、像素间距、像素位深度等。\n",
    "# 数据集信息：如数据集的总数、每个数据集包含的图像数等。\n",
    "# DICOM 文件的标准化使得医学图像和相关信息可以在不同的医疗设备和计算机系统之间进行可靠的传输和共享，为医疗信息化的实现提供了技术基础。"
   ]
  },
  {
   "cell_type": "code",
   "execution_count": 27,
   "id": "cdf7cf2a",
   "metadata": {},
   "outputs": [
    {
     "name": "stdout",
     "output_type": "stream",
     "text": [
      "CASE21\n",
      "<class 'pydicom.dataset.FileDataset'>\n",
      "<class 'str'>\n",
      "/home/cs22-wangc/data/Airway/EXACT09/Testing/CASE21/1118603\n",
      "[(0008, 0005), (0008, 0008), (0008, 0016), (0008, 0018), (0008, 0020), (0008, 0021), (0008, 0022), (0008, 0023), (0008, 0030), (0008, 0031), (0008, 0032), (0008, 0033), (0008, 0050), (0008, 0060), (0008, 0070), (0008, 1030), (0008, 1090), (0008, 1140), (0008, 2112), (0010, 0010), (0010, 0020), (0010, 0040), (0010, 1010), (0018, 0015), (0018, 0050), (0018, 0060), (0018, 0090), (0018, 1000), (0018, 1020), (0018, 1100), (0018, 1110), (0018, 1111), (0018, 1120), (0018, 1130), (0018, 1140), (0018, 1150), (0018, 1151), (0018, 1152), (0018, 1160), (0018, 1170), (0018, 1190), (0018, 1200), (0018, 1201), (0018, 1210), (0018, 5100), (0020, 000d), (0020, 000e), (0020, 0010), (0020, 0011), (0020, 0012), (0020, 0013), (0020, 0032), (0020, 0037), (0020, 0052), (0020, 1040), (0020, 1041), (0028, 0002), (0028, 0004), (0028, 0010), (0028, 0011), (0028, 0030), (0028, 0100), (0028, 0101), (0028, 0102), (0028, 0103), (0028, 0106), (0028, 0107), (0028, 1050), (0028, 1051), (0028, 1052), (0028, 1053), (0028, 1055), (7fe0, 0010)]\n"
     ]
    },
    {
     "ename": "AssertionError",
     "evalue": "",
     "output_type": "error",
     "traceback": [
      "\u001b[0;31m---------------------------------------------------------------------------\u001b[0m",
      "\u001b[0;31mAssertionError\u001b[0m                            Traceback (most recent call last)",
      "\u001b[0;32m/tmp/ipykernel_26594/2820390413.py\u001b[0m in \u001b[0;36m<module>\u001b[0;34m\u001b[0m\n\u001b[1;32m      7\u001b[0m     \u001b[0mkeys\u001b[0m \u001b[0;34m=\u001b[0m \u001b[0mlist\u001b[0m\u001b[0;34m(\u001b[0m\u001b[0mdicom_file\u001b[0m\u001b[0;34m.\u001b[0m\u001b[0mkeys\u001b[0m\u001b[0;34m(\u001b[0m\u001b[0;34m)\u001b[0m\u001b[0;34m)\u001b[0m\u001b[0;34m\u001b[0m\u001b[0;34m\u001b[0m\u001b[0m\n\u001b[1;32m      8\u001b[0m     \u001b[0mprint\u001b[0m\u001b[0;34m(\u001b[0m\u001b[0mkeys\u001b[0m\u001b[0;34m)\u001b[0m\u001b[0;34m\u001b[0m\u001b[0;34m\u001b[0m\u001b[0m\n\u001b[0;32m----> 9\u001b[0;31m     \u001b[0;32massert\u001b[0m \u001b[0;32mFalse\u001b[0m\u001b[0;34m\u001b[0m\u001b[0;34m\u001b[0m\u001b[0m\n\u001b[0m",
      "\u001b[0;31mAssertionError\u001b[0m: "
     ]
    }
   ],
   "source": [
    "for case in test_case_dict.keys():\n",
    "    print(case, end=\"\\n\")\n",
    "    dicom_file = pydicom.dcmread(test_case_dict[case][0])\n",
    "    print(type(dicom_file))#<class 'pydicom.dataset.FileDataset'>\n",
    "    print(type(test_case_dict[case][0]))#<class 'str'>\n",
    "    print(test_case_dict[case][0])#/home/cs22-wangc/data/Airway/EXACT09/Testing/CASE21/1118603\n",
    "    keys = list(dicom_file.keys())\n",
    "    print(keys)\n",
    "    # DICOM 文件包含了多个数据元素，每个数据元素都由一个标签和一个值组成。\n",
    "    # 标签由两个16位的十六进制数字组成，表示该数据元素的类型和意义。\n",
    "    # 而值则表示该数据元素对应的具体内容，可以是数字、文本、二进制数据等。\n",
    "    # 在 pydicom 库中，数据元素的标签和值被存储在一个 pydicom.dataset.FileDataset 类型的对象中，\n",
    "    # 可以通过访问对象的 .keys() 方法来获取该对象中所有数据元素的标签。\n",
    "\n",
    "    # 因此，如果打印 dicom_file.keys()，将会得到一个包含所有数据元素标签的列表。\n",
    "    # 列表中的每个元素都是一个 pydicom.tag.BaseTag 类型的对象，表示一个数据元素的标签。\n",
    "    # 列表中的标签顺序是按照它们在 DICOM 文件中出现的顺序排列的。\n",
    "    assert False\n"
   ]
  },
  {
   "cell_type": "code",
   "execution_count": 4,
   "id": "ff7ad4c9",
   "metadata": {},
   "outputs": [
    {
     "name": "stdout",
     "output_type": "stream",
     "text": [
      "CASE21\n",
      "(0028, 0030) Pixel Spacing                       DS: [0.6015625, 0.6015625]\n",
      "----------\n",
      "CASE22\n",
      "(0028, 0030) Pixel Spacing                       DS: [0.6015625, 0.6015625]\n",
      "----------\n",
      "CASE23\n",
      "(0028, 0030) Pixel Spacing                       DS: [0.595703125, 0.595703125]\n",
      "----------\n",
      "CASE24\n",
      "(0028, 0030) Pixel Spacing                       DS: [0.652000, 0.652000]\n",
      "----------\n",
      "CASE25\n",
      "(0028, 0030) Pixel Spacing                       DS: [0.652000, 0.652000]\n",
      "----------\n",
      "CASE26\n",
      "(0028, 0030) Pixel Spacing                       DS: [0.690000, 0.690000]\n",
      "----------\n",
      "CASE27\n",
      "(0028, 0030) Pixel Spacing                       DS: [0.690000, 0.690000]\n",
      "----------\n",
      "CASE28\n",
      "(0028, 0030) Pixel Spacing                       DS: [0.65625, 0.65625]\n",
      "----------\n",
      "CASE29\n",
      "(0028, 0030) Pixel Spacing                       DS: [0.65625, 0.65625]\n",
      "----------\n",
      "CASE30\n",
      "(0028, 0030) Pixel Spacing                       DS: [0.781250, 0.781250]\n",
      "----------\n",
      "CASE31\n",
      "(0028, 0030) Pixel Spacing                       DS: [0.781250, 0.781250]\n",
      "----------\n",
      "CASE32\n",
      "(0028, 0030) Pixel Spacing                       DS: [0.781250, 0.781250]\n",
      "----------\n",
      "CASE33\n",
      "(0028, 0030) Pixel Spacing                       DS: [0.5546875, 0.5546875]\n",
      "----------\n",
      "CASE34\n",
      "(0028, 0030) Pixel Spacing                       DS: [0.5859375, 0.5859375]\n",
      "----------\n",
      "CASE35\n",
      "(0028, 0030) Pixel Spacing                       DS: [0.683594, 0.683594]\n",
      "----------\n",
      "CASE36\n",
      "(0028, 0030) Pixel Spacing                       DS: [0.5859375, 0.5859375]\n",
      "----------\n",
      "CASE37\n",
      "(0028, 0030) Pixel Spacing                       DS: [0.736328125, 0.736328125]\n",
      "----------\n",
      "CASE38\n",
      "(0028, 0030) Pixel Spacing                       DS: [0.71875, 0.71875]\n",
      "----------\n",
      "CASE39\n",
      "(0028, 0030) Pixel Spacing                       DS: [0.599609375, 0.599609375]\n",
      "----------\n",
      "CASE40\n",
      "(0028, 0030) Pixel Spacing                       DS: [0.7421875, 0.7421875]\n",
      "----------\n"
     ]
    }
   ],
   "source": [
    "for case in test_case_dict.keys():\n",
    "    print(case, end=\"\\n\")\n",
    "    dicom_file = pydicom.dcmread(test_case_dict[case][0])\n",
    "    keys = list(dicom_file.keys())\n",
    "    for idx, key in enumerate(keys):\n",
    "        if str(key) == \"(0028, 0030)\":#为什么查找这个值？\n",
    "            i = idx\n",
    "            break\n",
    "    print(dicom_file[list(dicom_file.keys())[i]])\n",
    "    print(\"----------\")\n",
    "\n",
    "# 在上面的代码中，程序查找 \"(0028, 0030)\" 的数据元素，是为了获取 DICOM 文件中像素间距（Pixel Spacing）这个数据元素的值。\n",
    "\n",
    "# \"(0028, 0030)\" 是 DICOM 标准中用于表示像素间距的数据元素的标签，\n",
    "# 它的值是一个包含两个数字的列表，分别表示每个像素在物理空间中的大小。\n",
    "# 在医学成像中，像素间距是非常重要的信息，它可以帮助医生确定图像中的物理尺寸，从而进行正确的诊断和治疗。\n",
    "\n",
    "# 因此，在上面的代码中，程序查找 \"(0028, 0030)\" 这个数据元素的值，是为了获取 DICOM 文件中的像素间距信息。\n",
    "# 程序使用 enumerate 函数来遍历 DICOM 文件中所有数据元素的标签，并查找第一个标签为 \"(0028, 0030)\" 的数据元素，\n",
    "# 一旦找到这个数据元素，程序就可以获取它的值，并打印出来。"
   ]
  },
  {
   "attachments": {},
   "cell_type": "markdown",
   "id": "e39e496e",
   "metadata": {},
   "source": [
    "there may be some unsorted image names...未排序的image"
   ]
  },
  {
   "cell_type": "code",
   "execution_count": 5,
   "id": "4c35c529",
   "metadata": {},
   "outputs": [
    {
     "name": "stdout",
     "output_type": "stream",
     "text": [
      "CASE01 ['1093782', '1093783', '1093784', '1093785', '1093786', '1093787', '1093788']\n",
      "CASE02 ['1092606', '1092607', '1092608', '1092609', '1092610', '1092611', '1092612']\n",
      "CASE03 ['2838333', '2838334', '2838335', '2838336', '2838337', '2838338', '2838339']\n",
      "CASE04 ['Cha366_0000.DCM', 'Cha366_0001.DCM', 'Cha366_0002.DCM', 'Cha366_0003.DCM', 'Cha366_0004.DCM', 'Cha366_0005.DCM', 'Cha366_0006.DCM']\n",
      "CASE05 ['Cha366_0000.DCM', 'Cha366_0001.DCM', 'Cha366_0002.DCM', 'Cha366_0003.DCM', 'Cha366_0004.DCM', 'Cha366_0005.DCM', 'Cha366_0006.DCM']\n",
      "CASE06 ['Cha416_0000.DCM', 'Cha416_0001.DCM', 'Cha416_0002.DCM', 'Cha416_0003.DCM', 'Cha416_0004.DCM', 'Cha416_0005.DCM', 'Cha416_0006.DCM']\n",
      "CASE07 ['Cha416_0000.DCM', 'Cha416_0001.DCM', 'Cha416_0002.DCM', 'Cha416_0003.DCM', 'Cha416_0004.DCM', 'Cha416_0005.DCM', 'Cha416_0006.DCM']\n",
      "CASE08 ['export0001.dcm', 'export0002.dcm', 'export0003.dcm', 'export0004.dcm', 'export0005.dcm', 'export0006.dcm', 'export0007.dcm']\n",
      "CASE09 ['export0001.dcm', 'export0002.dcm', 'export0003.dcm', 'export0004.dcm', 'export0005.dcm', 'export0006.dcm', 'export0007.dcm']\n",
      "CASE10 ['IM1581_20050425_001', 'IM1581_20050425_002', 'IM1581_20050425_003', 'IM1581_20050425_004', 'IM1581_20050425_005', 'IM1581_20050425_006', 'IM1581_20050425_007']\n",
      "CASE11 ['IM1213_20050316_001', 'IM1213_20050316_002', 'IM1213_20050316_003', 'IM1213_20050316_004', 'IM1213_20050316_005', 'IM1213_20050316_006', 'IM1213_20050316_007']\n",
      "CASE12 ['IM912_20050127_001', 'IM912_20050127_002', 'IM912_20050127_003', 'IM912_20050127_004', 'IM912_20050127_005', 'IM912_20050127_006', 'IM912_20050127_007']\n",
      "CASE13 ['14831443', '14831445', '14831447', '14831448', '14831450', '14831452', '14831454']\n",
      "CASE14 ['5919175', '5919193', '5919211', '5919229', '5919247', '5919265', '5919283']\n",
      "CASE15 ['000000.dcm', '000001.dcm', '000002.dcm', '000003.dcm', '000004.dcm', '000005.dcm', '000006.dcm']\n",
      "CASE16 ['I100IE0', 'I101IE0', 'I102IE0', 'I103IE0', 'I104IE0', 'I105IE0', 'I106IE0']\n",
      "CASE17 ['I10', 'I100', 'I1000', 'I1010', 'I1020', 'I1030', 'I1040']\n",
      "CASE18 ['I10', 'I100', 'I1000', 'I1010', 'I1020', 'I1030', 'I1040']\n",
      "CASE19 ['00001_1.3.12.2.1107.5.1.4.54014.30000008040906142467100004409.dcm', '00002_1.3.12.2.1107.5.1.4.54014.30000008040906142467100004408.dcm', '00003_1.3.12.2.1107.5.1.4.54014.30000008040906142467100004407.dcm', '00004_1.3.12.2.1107.5.1.4.54014.30000008040906142467100004406.dcm', '00005_1.3.12.2.1107.5.1.4.54014.30000008040906142467100004405.dcm', '00006_1.3.12.2.1107.5.1.4.54014.30000008040906142467100004404.dcm', '00007_1.3.12.2.1107.5.1.4.54014.30000008040906142467100004403.dcm']\n",
      "CASE20 ['00001_1.3.12.2.1107.5.1.4.50018.30000008022607255115600012136.dcm', '00002_1.3.12.2.1107.5.1.4.50018.30000008022607255115600012137.dcm', '00003_1.3.12.2.1107.5.1.4.50018.30000008022607255115600012138.dcm', '00004_1.3.12.2.1107.5.1.4.50018.30000008022607255115600012139.dcm', '00005_1.3.12.2.1107.5.1.4.50018.30000008022607255115600012140.dcm', '00006_1.3.12.2.1107.5.1.4.50018.30000008022607255115600012141.dcm', '00007_1.3.12.2.1107.5.1.4.50018.30000008022607255115600012142.dcm']\n"
     ]
    }
   ],
   "source": [
    "for name in train_case_dict.keys():\n",
    "    print(name, [train_case_dict[name][i].split(\"/\")[-1] for i in range(7)], end=\"\\n\")"
   ]
  },
  {
   "cell_type": "code",
   "execution_count": 6,
   "id": "de0147f1",
   "metadata": {},
   "outputs": [
    {
     "name": "stdout",
     "output_type": "stream",
     "text": [
      "CASE21 ['1118603', '1118604', '1118605', '1118606', '1118607', '1118608', '1118609']\n",
      "CASE22 ['1117529', '1117530', '1117531', '1117532', '1117533', '1117534', '1117535']\n",
      "CASE23 ['3133176', '3133177', '3133178', '3133179', '3133180', '3133181', '3133182']\n",
      "CASE24 ['Cha531_0000.DCM', 'Cha531_0001.DCM', 'Cha531_0002.DCM', 'Cha531_0003.DCM', 'Cha531_0004.DCM', 'Cha531_0005.DCM', 'Cha531_0006.DCM']\n",
      "CASE25 ['Cha531_0000.DCM', 'Cha531_0001.DCM', 'Cha531_0002.DCM', 'Cha531_0003.DCM', 'Cha531_0004.DCM', 'Cha531_0005.DCM', 'Cha531_0006.DCM']\n",
      "CASE26 ['Cha351_0000.DCM', 'Cha351_0001.DCM', 'Cha351_0002.DCM', 'Cha351_0003.DCM', 'Cha351_0004.DCM', 'Cha351_0005.DCM', 'Cha351_0006.DCM']\n",
      "CASE27 ['Cha351_0000', 'Cha351_0001', 'Cha351_0002', 'Cha351_0003', 'Cha351_0004', 'Cha351_0005', 'Cha351_0006']\n",
      "CASE28 ['export0001.dcm', 'export0002.dcm', 'export0003.dcm', 'export0004.dcm', 'export0005.dcm', 'export0006.dcm', 'export0007.dcm']\n",
      "CASE29 ['export0001.dcm', 'export0002.dcm', 'export0003.dcm', 'export0004.dcm', 'export0005.dcm', 'export0006.dcm', 'export0007.dcm']\n",
      "CASE30 ['IM3462_20051114_001', 'IM3462_20051114_002', 'IM3462_20051114_003', 'IM3462_20051114_004', 'IM3462_20051114_005', 'IM3462_20051114_006', 'IM3462_20051114_007']\n",
      "CASE31 ['IM3483_20051114_001', 'IM3483_20051114_002', 'IM3483_20051114_003', 'IM3483_20051114_004', 'IM3483_20051114_005', 'IM3483_20051114_006', 'IM3483_20051114_007']\n",
      "CASE32 ['IM1907_20050606_001', 'IM1907_20050606_002', 'IM1907_20050606_003', 'IM1907_20050606_004', 'IM1907_20050606_005', 'IM1907_20050606_006', 'IM1907_20050606_007']\n",
      "CASE33 ['45031249', '45031267', '45031285', '45031303', '45031321', '45031339', '45031357']\n",
      "CASE34 ['13740106', '13740124', '13740142', '13740160', '13740178', '13740196', '13740214']\n",
      "CASE35 ['000000.dcm', '000001.dcm', '000002.dcm', '000003.dcm', '000004.dcm', '000005.dcm', '000006.dcm']\n",
      "CASE36 ['I100IE0', 'I101IE0', 'I102IE0', 'I103IE0', 'I104IE0', 'I105IE0', 'I106IE0']\n",
      "CASE37 ['I10', 'I100', 'I1000', 'I1010', 'I1020', 'I1030', 'I1040']\n",
      "CASE38 ['I10', 'I100', 'I1000', 'I1010', 'I1020', 'I1030', 'I1040']\n",
      "CASE39 ['00001_1.3.12.2.1107.5.1.4.54014.30020008101406201701500018281.dcm', '00002_1.3.12.2.1107.5.1.4.54014.30020008101406201701500018280.dcm', '00003_1.3.12.2.1107.5.1.4.54014.30020008101406201701500018279.dcm', '00004_1.3.12.2.1107.5.1.4.54014.30020008101406201701500018278.dcm', '00005_1.3.12.2.1107.5.1.4.54014.30020008101406201701500018277.dcm', '00006_1.3.12.2.1107.5.1.4.54014.30020008101406201701500018276.dcm', '00007_1.3.12.2.1107.5.1.4.54014.30020008101406201701500018275.dcm']\n",
      "CASE40 ['00001_1.3.12.2.1107.5.1.4.50018.30000008030607573559300002130.dcm', '00002_1.3.12.2.1107.5.1.4.50018.30000008030607573559300002131.dcm', '00003_1.3.12.2.1107.5.1.4.50018.30000008030607573559300002132.dcm', '00004_1.3.12.2.1107.5.1.4.50018.30000008030607573559300002133.dcm', '00005_1.3.12.2.1107.5.1.4.50018.30000008030607573559300002134.dcm', '00006_1.3.12.2.1107.5.1.4.50018.30000008030607573559300002135.dcm', '00007_1.3.12.2.1107.5.1.4.50018.30000008030607573559300002136.dcm']\n"
     ]
    }
   ],
   "source": [
    "for name in test_case_dict.keys():\n",
    "    print(name, [test_case_dict[name][i].split(\"/\")[-1] for i in range(7)], end=\"\\n\")"
   ]
  },
  {
   "attachments": {},
   "cell_type": "markdown",
   "id": "0a0299ae",
   "metadata": {},
   "source": [
    "resort the image names of some cases排序"
   ]
  },
  {
   "cell_type": "code",
   "execution_count": 7,
   "id": "605721cc",
   "metadata": {},
   "outputs": [],
   "source": [
    "def resort_names(case_dict, chosen_name, indicator):\n",
    "    new_path_idx_list = []\n",
    "    for path in case_dict[chosen_name]:\n",
    "        name = path.split(\"/\")[-1]\n",
    "        new_path_idx_list.append(int(name.split(indicator)[1]))\n",
    "    new_path_idx_list = np.array(new_path_idx_list)\n",
    "    locs = np.argsort(new_path_idx_list)\n",
    "\n",
    "    new_path_list = []\n",
    "    for i in locs:\n",
    "        new_path_list.append(case_dict[chosen_name][i])\n",
    "\n",
    "    case_dict[chosen_name]=new_path_list"
   ]
  },
  {
   "cell_type": "code",
   "execution_count": 8,
   "id": "5b7e338f",
   "metadata": {},
   "outputs": [],
   "source": [
    "resort_names(test_case_dict, \"CASE37\", \"I\")\n",
    "resort_names(test_case_dict, \"CASE36\", \"I\")\n",
    "resort_names(test_case_dict, \"CASE38\", \"I\")\n",
    "resort_names(train_case_dict, \"CASE16\", \"I\")\n",
    "resort_names(train_case_dict, \"CASE17\", \"I\")\n",
    "resort_names(train_case_dict, \"CASE18\", \"I\")"
   ]
  },
  {
   "cell_type": "code",
   "execution_count": 9,
   "id": "df81d06f",
   "metadata": {},
   "outputs": [
    {
     "name": "stdout",
     "output_type": "stream",
     "text": [
      "CASE01 ['1093782', '1093783', '1093784', '1093785', '1093786', '1093787', '1093788']\n",
      "CASE02 ['1092606', '1092607', '1092608', '1092609', '1092610', '1092611', '1092612']\n",
      "CASE03 ['2838333', '2838334', '2838335', '2838336', '2838337', '2838338', '2838339']\n",
      "CASE04 ['Cha366_0000.DCM', 'Cha366_0001.DCM', 'Cha366_0002.DCM', 'Cha366_0003.DCM', 'Cha366_0004.DCM', 'Cha366_0005.DCM', 'Cha366_0006.DCM']\n",
      "CASE05 ['Cha366_0000.DCM', 'Cha366_0001.DCM', 'Cha366_0002.DCM', 'Cha366_0003.DCM', 'Cha366_0004.DCM', 'Cha366_0005.DCM', 'Cha366_0006.DCM']\n",
      "CASE06 ['Cha416_0000.DCM', 'Cha416_0001.DCM', 'Cha416_0002.DCM', 'Cha416_0003.DCM', 'Cha416_0004.DCM', 'Cha416_0005.DCM', 'Cha416_0006.DCM']\n",
      "CASE07 ['Cha416_0000.DCM', 'Cha416_0001.DCM', 'Cha416_0002.DCM', 'Cha416_0003.DCM', 'Cha416_0004.DCM', 'Cha416_0005.DCM', 'Cha416_0006.DCM']\n",
      "CASE08 ['export0001.dcm', 'export0002.dcm', 'export0003.dcm', 'export0004.dcm', 'export0005.dcm', 'export0006.dcm', 'export0007.dcm']\n",
      "CASE09 ['export0001.dcm', 'export0002.dcm', 'export0003.dcm', 'export0004.dcm', 'export0005.dcm', 'export0006.dcm', 'export0007.dcm']\n",
      "CASE10 ['IM1581_20050425_001', 'IM1581_20050425_002', 'IM1581_20050425_003', 'IM1581_20050425_004', 'IM1581_20050425_005', 'IM1581_20050425_006', 'IM1581_20050425_007']\n",
      "CASE11 ['IM1213_20050316_001', 'IM1213_20050316_002', 'IM1213_20050316_003', 'IM1213_20050316_004', 'IM1213_20050316_005', 'IM1213_20050316_006', 'IM1213_20050316_007']\n",
      "CASE12 ['IM912_20050127_001', 'IM912_20050127_002', 'IM912_20050127_003', 'IM912_20050127_004', 'IM912_20050127_005', 'IM912_20050127_006', 'IM912_20050127_007']\n",
      "CASE13 ['14831443', '14831445', '14831447', '14831448', '14831450', '14831452', '14831454']\n",
      "CASE14 ['5919175', '5919193', '5919211', '5919229', '5919247', '5919265', '5919283']\n",
      "CASE15 ['000000.dcm', '000001.dcm', '000002.dcm', '000003.dcm', '000004.dcm', '000005.dcm', '000006.dcm']\n",
      "CASE16 ['I2IE0', 'I3IE0', 'I4IE0', 'I5IE0', 'I6IE0', 'I7IE0', 'I8IE0']\n",
      "CASE17 ['I10', 'I20', 'I30', 'I40', 'I50', 'I60', 'I70']\n",
      "CASE18 ['I10', 'I20', 'I30', 'I40', 'I50', 'I60', 'I70']\n",
      "CASE19 ['00001_1.3.12.2.1107.5.1.4.54014.30000008040906142467100004409.dcm', '00002_1.3.12.2.1107.5.1.4.54014.30000008040906142467100004408.dcm', '00003_1.3.12.2.1107.5.1.4.54014.30000008040906142467100004407.dcm', '00004_1.3.12.2.1107.5.1.4.54014.30000008040906142467100004406.dcm', '00005_1.3.12.2.1107.5.1.4.54014.30000008040906142467100004405.dcm', '00006_1.3.12.2.1107.5.1.4.54014.30000008040906142467100004404.dcm', '00007_1.3.12.2.1107.5.1.4.54014.30000008040906142467100004403.dcm']\n",
      "CASE20 ['00001_1.3.12.2.1107.5.1.4.50018.30000008022607255115600012136.dcm', '00002_1.3.12.2.1107.5.1.4.50018.30000008022607255115600012137.dcm', '00003_1.3.12.2.1107.5.1.4.50018.30000008022607255115600012138.dcm', '00004_1.3.12.2.1107.5.1.4.50018.30000008022607255115600012139.dcm', '00005_1.3.12.2.1107.5.1.4.50018.30000008022607255115600012140.dcm', '00006_1.3.12.2.1107.5.1.4.50018.30000008022607255115600012141.dcm', '00007_1.3.12.2.1107.5.1.4.50018.30000008022607255115600012142.dcm']\n"
     ]
    }
   ],
   "source": [
    "for name in train_case_dict.keys():\n",
    "    print(name, [train_case_dict[name][i].split(\"/\")[-1] for i in range(7)], end=\"\\n\")"
   ]
  },
  {
   "cell_type": "code",
   "execution_count": 10,
   "id": "fe024c58",
   "metadata": {},
   "outputs": [
    {
     "name": "stdout",
     "output_type": "stream",
     "text": [
      "CASE21 ['1118603', '1118604', '1118605', '1118606', '1118607', '1118608', '1118609']\n",
      "CASE22 ['1117529', '1117530', '1117531', '1117532', '1117533', '1117534', '1117535']\n",
      "CASE23 ['3133176', '3133177', '3133178', '3133179', '3133180', '3133181', '3133182']\n",
      "CASE24 ['Cha531_0000.DCM', 'Cha531_0001.DCM', 'Cha531_0002.DCM', 'Cha531_0003.DCM', 'Cha531_0004.DCM', 'Cha531_0005.DCM', 'Cha531_0006.DCM']\n",
      "CASE25 ['Cha531_0000.DCM', 'Cha531_0001.DCM', 'Cha531_0002.DCM', 'Cha531_0003.DCM', 'Cha531_0004.DCM', 'Cha531_0005.DCM', 'Cha531_0006.DCM']\n",
      "CASE26 ['Cha351_0000.DCM', 'Cha351_0001.DCM', 'Cha351_0002.DCM', 'Cha351_0003.DCM', 'Cha351_0004.DCM', 'Cha351_0005.DCM', 'Cha351_0006.DCM']\n",
      "CASE27 ['Cha351_0000', 'Cha351_0001', 'Cha351_0002', 'Cha351_0003', 'Cha351_0004', 'Cha351_0005', 'Cha351_0006']\n",
      "CASE28 ['export0001.dcm', 'export0002.dcm', 'export0003.dcm', 'export0004.dcm', 'export0005.dcm', 'export0006.dcm', 'export0007.dcm']\n",
      "CASE29 ['export0001.dcm', 'export0002.dcm', 'export0003.dcm', 'export0004.dcm', 'export0005.dcm', 'export0006.dcm', 'export0007.dcm']\n",
      "CASE30 ['IM3462_20051114_001', 'IM3462_20051114_002', 'IM3462_20051114_003', 'IM3462_20051114_004', 'IM3462_20051114_005', 'IM3462_20051114_006', 'IM3462_20051114_007']\n",
      "CASE31 ['IM3483_20051114_001', 'IM3483_20051114_002', 'IM3483_20051114_003', 'IM3483_20051114_004', 'IM3483_20051114_005', 'IM3483_20051114_006', 'IM3483_20051114_007']\n",
      "CASE32 ['IM1907_20050606_001', 'IM1907_20050606_002', 'IM1907_20050606_003', 'IM1907_20050606_004', 'IM1907_20050606_005', 'IM1907_20050606_006', 'IM1907_20050606_007']\n",
      "CASE33 ['45031249', '45031267', '45031285', '45031303', '45031321', '45031339', '45031357']\n",
      "CASE34 ['13740106', '13740124', '13740142', '13740160', '13740178', '13740196', '13740214']\n",
      "CASE35 ['000000.dcm', '000001.dcm', '000002.dcm', '000003.dcm', '000004.dcm', '000005.dcm', '000006.dcm']\n",
      "CASE36 ['I2IE0', 'I3IE0', 'I4IE0', 'I5IE0', 'I6IE0', 'I7IE0', 'I8IE0']\n",
      "CASE37 ['I10', 'I20', 'I30', 'I40', 'I50', 'I60', 'I70']\n",
      "CASE38 ['I10', 'I20', 'I30', 'I40', 'I50', 'I60', 'I70']\n",
      "CASE39 ['00001_1.3.12.2.1107.5.1.4.54014.30020008101406201701500018281.dcm', '00002_1.3.12.2.1107.5.1.4.54014.30020008101406201701500018280.dcm', '00003_1.3.12.2.1107.5.1.4.54014.30020008101406201701500018279.dcm', '00004_1.3.12.2.1107.5.1.4.54014.30020008101406201701500018278.dcm', '00005_1.3.12.2.1107.5.1.4.54014.30020008101406201701500018277.dcm', '00006_1.3.12.2.1107.5.1.4.54014.30020008101406201701500018276.dcm', '00007_1.3.12.2.1107.5.1.4.54014.30020008101406201701500018275.dcm']\n",
      "CASE40 ['00001_1.3.12.2.1107.5.1.4.50018.30000008030607573559300002130.dcm', '00002_1.3.12.2.1107.5.1.4.50018.30000008030607573559300002131.dcm', '00003_1.3.12.2.1107.5.1.4.50018.30000008030607573559300002132.dcm', '00004_1.3.12.2.1107.5.1.4.50018.30000008030607573559300002133.dcm', '00005_1.3.12.2.1107.5.1.4.50018.30000008030607573559300002134.dcm', '00006_1.3.12.2.1107.5.1.4.50018.30000008030607573559300002135.dcm', '00007_1.3.12.2.1107.5.1.4.50018.30000008030607573559300002136.dcm']\n"
     ]
    }
   ],
   "source": [
    "for name in test_case_dict.keys():\n",
    "    print(name, [test_case_dict[name][i].split(\"/\")[-1] for i in range(7)], end=\"\\n\")"
   ]
  },
  {
   "attachments": {},
   "cell_type": "markdown",
   "id": "440fd81b",
   "metadata": {},
   "source": [
    "### get 3d imgs and save them 得到3D图像并保存"
   ]
  },
  {
   "cell_type": "code",
   "execution_count": 11,
   "id": "7b3cf5a5",
   "metadata": {},
   "outputs": [],
   "source": [
    "output_file_path = \"/home/cs22-wangc/data/Airway/EXACT09_3D\"\n",
    "\n",
    "if not os.path.exists(output_file_path):\n",
    "    os.mkdir(output_file_path)\n",
    "\n",
    "if not os.path.exists(output_file_path+\"/train\"):\n",
    "    os.mkdir(output_file_path+\"/train\")\n",
    "\n",
    "if not os.path.exists(output_file_path+\"/test\"):\n",
    "    os.mkdir(output_file_path+\"/test\")\n",
    "\n",
    "if not os.path.exists(output_file_path+\"/train_label\"):\n",
    "    os.mkdir(output_file_path+\"/train_label\")"
   ]
  },
  {
   "cell_type": "code",
   "execution_count": 12,
   "id": "ecfbac74",
   "metadata": {},
   "outputs": [
    {
     "data": {
      "text/plain": [
       "'/home/cs22-wangc/data/Airway/EXACT09_3D'"
      ]
     },
     "execution_count": 12,
     "metadata": {},
     "output_type": "execute_result"
    }
   ],
   "source": [
    "output_file_path"
   ]
  },
  {
   "cell_type": "code",
   "execution_count": 13,
   "id": "257461a6",
   "metadata": {},
   "outputs": [],
   "source": [
    "def loadFile(filename):\n",
    "    ds = sitk.ReadImage(filename)\n",
    "    img_array = sitk.GetArrayFromImage(ds)\n",
    "    frame_num, width, height = img_array.shape\n",
    "    return img_array, frame_num, width, height\n",
    "\n",
    "def get_3d_img_for_one_case(img_path_list):\n",
    "    img_3d=[]\n",
    "    for idx, img_path in enumerate(img_path_list):\n",
    "        print(\"progress: \"+str(idx/len(img_path_list))+\"; \"+str(img_path), end=\"\\r\")\n",
    "        img_slice, frame_num, _, _ = loadFile(img_path)\n",
    "        assert frame_num==1\n",
    "        img_3d.append(img_slice)\n",
    "    img_3d=np.array(img_3d)\n",
    "    return img_3d.reshape(img_3d.shape[0], img_3d.shape[2], img_3d.shape[3])"
   ]
  },
  {
   "cell_type": "code",
   "execution_count": 14,
   "id": "f199bb14",
   "metadata": {},
   "outputs": [
    {
     "name": "stdout",
     "output_type": "stream",
     "text": [
      "progress: 0.9968652037617555; /home/cs22-wangc/data/Airway/EXACT09/Training/CASE20/00319_1.3.12.2.1107.5.1.4.50018.30000008022607255115600012454.dcmmm\r"
     ]
    }
   ],
   "source": [
    "# preprocess and save one case\n",
    "img_3d = get_3d_img_for_one_case(train_case_dict[\"CASE20\"])\n",
    "sitk.WriteImage(sitk.GetImageFromArray(img_3d), output_file_path+\"/train/CASE20.nii.gz\")"
   ]
  },
  {
   "cell_type": "code",
   "execution_count": 15,
   "id": "eb1fdb7b",
   "metadata": {},
   "outputs": [
    {
     "name": "stdout",
     "output_type": "stream",
     "text": [
      "CASE01\n",
      "CASE02ss: 0.9982964224872232; /home/cs22-wangc/data/Airway/EXACT09/Training/CASE01/1094368476\n",
      "CASE03ss: 0.9982964224872232; /home/cs22-wangc/data/Airway/EXACT09/Training/CASE02/1093192810\n",
      "CASE04ss: 0.9982174688057041; /home/cs22-wangc/data/Airway/EXACT09/Training/CASE03/283889338\n",
      "CASE05ss: 0.998003992015968; /home/cs22-wangc/data/Airway/EXACT09/Training/CASE04/Cha366_0500.DCMMMM\n",
      "CASE06ss: 0.9972677595628415; /home/cs22-wangc/data/Airway/EXACT09/Training/CASE05/Cha366_0365.DCMMM\n",
      "CASE07ss: 0.998003992015968; /home/cs22-wangc/data/Airway/EXACT09/Training/CASE06/Cha416_0500.DCMMMM\n",
      "CASE08ss: 0.9975961538461539; /home/cs22-wangc/data/Airway/EXACT09/Training/CASE07/Cha416_0415.DCMMM\n",
      "CASE09ss: 0.9975669099756691; /home/cs22-wangc/data/Airway/EXACT09/Training/CASE08/export0411.dcmmmm\n",
      "CASE10ss: 0.9975669099756691; /home/cs22-wangc/data/Airway/EXACT09/Training/CASE09/export0411.dcmmmm\n",
      "CASE11ss: 0.996742671009772; /home/cs22-wangc/data/Airway/EXACT09/Training/CASE10/IM1581_20050425_307426\n",
      "CASE12ss: 0.9971590909090909; /home/cs22-wangc/data/Airway/EXACT09/Training/CASE11/IM1213_20050316_35231\n",
      "CASE13ss: 0.9973958333333334; /home/cs22-wangc/data/Airway/EXACT09/Training/CASE12/IM912_20050127_384642\n",
      "CASE14ss: 0.9965870307167235; /home/cs22-wangc/data/Airway/EXACT09/Training/CASE13/14832593505\n",
      "CASE15ss: 0.9973821989528796; /home/cs22-wangc/data/Airway/EXACT09/Training/CASE14/593438459\n",
      "CASE16ss: 0.9980314960629921; /home/cs22-wangc/data/Airway/EXACT09/Training/CASE15/000507.dcmmm\n",
      "CASE17ss: 0.9975728155339806; /home/cs22-wangc/data/Airway/EXACT09/Training/CASE16/I413IE00\n",
      "CASE18ss: 0.9977324263038548; /home/cs22-wangc/data/Airway/EXACT09/Training/CASE17/I44100\n",
      "CASE19ss: 0.9976359338061466; /home/cs22-wangc/data/Airway/EXACT09/Training/CASE18/I42300\n",
      "CASE20ss: 0.9958847736625515; /home/cs22-wangc/data/Airway/EXACT09/Training/CASE19/00243_1.3.12.2.1107.5.1.4.54014.30000008040906142467100004167.dcmmm\n",
      "CASE21ss: 0.9968652037617555; /home/cs22-wangc/data/Airway/EXACT09/Training/CASE20/00319_1.3.12.2.1107.5.1.4.50018.30000008022607255115600012454.dcmmm\n",
      "CASE22ss: 0.9981343283582089; /home/cs22-wangc/data/Airway/EXACT09/Testing/CASE21/1119138565\n",
      "CASE23ss: 0.9981343283582089; /home/cs22-wangc/data/Airway/EXACT09/Testing/CASE22/1118064121\n",
      "CASE24ss: 0.9985185185185185; /home/cs22-wangc/data/Airway/EXACT09/Testing/CASE23/3133850359\n",
      "CASE25ss: 0.998003992015968; /home/cs22-wangc/data/Airway/EXACT09/Testing/CASE24/Cha531_0500.DCMMMM\n",
      "CASE26ss: 0.9981167608286252; /home/cs22-wangc/data/Airway/EXACT09/Testing/CASE25/Cha531_0530.DCMMMM\n",
      "CASE27ss: 0.998003992015968; /home/cs22-wangc/data/Airway/EXACT09/Testing/CASE26/Cha351_0500.DCMMMM\n",
      "CASE28ss: 0.9971509971509972; /home/cs22-wangc/data/Airway/EXACT09/Testing/CASE27/Cha351_035046\n",
      "CASE29ss: 0.9973753280839895; /home/cs22-wangc/data/Airway/EXACT09/Testing/CASE28/export0381.dcmmmm\n",
      "CASE30ss: 0.9973404255319149; /home/cs22-wangc/data/Airway/EXACT09/Testing/CASE29/export0376.dcmmmm\n",
      "CASE31ss: 0.9968553459119497; /home/cs22-wangc/data/Airway/EXACT09/Testing/CASE30/IM3462_20051114_318702\n",
      "CASE32ss: 0.9966329966329966; /home/cs22-wangc/data/Airway/EXACT09/Testing/CASE31/IM3483_20051114_29776\n",
      "CASE33ss: 0.9974811083123426; /home/cs22-wangc/data/Airway/EXACT09/Testing/CASE32/IM1907_20050606_397852\n",
      "CASE34ss: 0.9974358974358974; /home/cs22-wangc/data/Airway/EXACT09/Testing/CASE33/4507112933\n",
      "CASE35ss: 0.9974424552429667; /home/cs22-wangc/data/Airway/EXACT09/Testing/CASE34/13747285280\n",
      "CASE36ss: 0.9978991596638656; /home/cs22-wangc/data/Airway/EXACT09/Testing/CASE35/000475.dcmmmm\n",
      "CASE37ss: 0.9976359338061466; /home/cs22-wangc/data/Airway/EXACT09/Testing/CASE36/I424IE00\n",
      "CASE38ss: 0.9979919678714859; /home/cs22-wangc/data/Airway/EXACT09/Testing/CASE37/I49800\n",
      "CASE39ss: 0.9978021978021978; /home/cs22-wangc/data/Airway/EXACT09/Testing/CASE38/I45500\n",
      "CASE40ss: 0.9962546816479401; /home/cs22-wangc/data/Airway/EXACT09/Testing/CASE39/00267_1.3.12.2.1107.5.1.4.54014.30020008101406201701500018015.dcmmm\n",
      "progress: 0.9969135802469136; /home/cs22-wangc/data/Airway/EXACT09/Testing/CASE40/00324_1.3.12.2.1107.5.1.4.50018.30000008030607573559300002453.dcmmmm\r"
     ]
    }
   ],
   "source": [
    "# preprocess and save cases\n",
    "for case in train_case_dict.keys():\n",
    "    print(case, end=\"\\n\")\n",
    "    img_3d = get_3d_img_for_one_case(train_case_dict[case])\n",
    "    sitk.WriteImage(sitk.GetImageFromArray(img_3d),\n",
    "                    output_file_path+\"/train/\"+case+'.nii.gz')\n",
    "    \n",
    "\n",
    "for case in test_case_dict.keys():\n",
    "    print(case, end=\"\\n\")\n",
    "    img_3d = get_3d_img_for_one_case(test_case_dict[case])\n",
    "    sitk.WriteImage(sitk.GetImageFromArray(img_3d),\n",
    "                    output_file_path+\"/test/\"+case+'.nii.gz')"
   ]
  },
  {
   "cell_type": "markdown",
   "id": "37d61d6c",
   "metadata": {},
   "source": [
    "Attention! the image orders of some cases are wrong. You should visually check every 3D img..."
   ]
  },
  {
   "cell_type": "code",
   "execution_count": 16,
   "id": "d056b61f",
   "metadata": {},
   "outputs": [],
   "source": [
    "# E.g.\n",
    "\n",
    "def reverse_img_3d_np(img_3d):\n",
    "    img_3d_shape=img_3d.shape\n",
    "    reverse_img_3d = np.zeros(img_3d_shape)\n",
    "    # reverse from the 1st channel\n",
    "    for i in range(img_3d_shape[0]):\n",
    "        print(\"progress: \"+str(i/img_3d_shape[0]), end=\"\\r\")\n",
    "        reverse_img_3d[img_3d_shape[0]-i-1,:,:]=img_3d[i,:,:]\n",
    "    return reverse_img_3d\n",
    "\n",
    "#mark: for CASE13, raw_img = np.concatenate((reverse_img_3d_np(raw_img[:93,:,:]), reverse_img_3d_np(raw_img[93:193,:,:]), reverse_img_3d_np(raw_img[193:,:,:])), axis=0)\n",
    "#mark: for CASE14, raw_img = np.concatenate((reverse_img_3d_np(raw_img[:82,:,:]), reverse_img_3d_np(raw_img[82:181,:,:]),\n",
    "#                          reverse_img_3d_np(raw_img[181:282,:,:]), reverse_img_3d_np(raw_img[282:,:,:])), axis=0)"
   ]
  },
  {
   "cell_type": "code",
   "execution_count": 17,
   "id": "1ded594f",
   "metadata": {},
   "outputs": [
    {
     "data": {
      "text/plain": [
       "'/home/cs22-wangc/data/Airway/EXACT09_3D'"
      ]
     },
     "execution_count": 17,
     "metadata": {},
     "output_type": "execute_result"
    }
   ],
   "source": [
    "output_file_path"
   ]
  },
  {
   "cell_type": "code",
   "execution_count": 18,
   "id": "078cfb30",
   "metadata": {},
   "outputs": [
    {
     "name": "stdout",
     "output_type": "stream",
     "text": [
      "CASE01\n",
      "CASE02\n",
      "CASE03\n",
      "CASE04\n",
      "CASE05\n",
      "CASE06\n",
      "CASE07\n",
      "CASE08\n",
      "CASE09\n",
      "CASE10\n",
      "CASE11\n",
      "CASE12\n",
      "CASE13\n",
      "CASE14\n",
      "CASE15\n",
      "CASE16\n",
      "CASE17\n",
      "CASE18\n",
      "CASE19\n",
      "CASE20\n"
     ]
    }
   ],
   "source": [
    "# get labels of the training data\n",
    "label_file_path = \"/home/cs22-wangc/data/Airway/airways_EXACTtrain\"\n",
    "\n",
    "for case in train_case_dict.keys():\n",
    "    print(case)\n",
    "    img_label_arr, _, _, _ = loadFile(label_file_path+'/'+case+'.mhd')\n",
    "    sitk.WriteImage(sitk.GetImageFromArray(img_label_arr),\n",
    "                    output_file_path+\"/train_label/\"+case+'_label.nii.gz')"
   ]
  },
  {
   "cell_type": "code",
   "execution_count": 19,
   "id": "5baf2062",
   "metadata": {},
   "outputs": [
    {
     "data": {
      "text/plain": [
       "1"
      ]
     },
     "execution_count": 19,
     "metadata": {},
     "output_type": "execute_result"
    }
   ],
   "source": [
    "1"
   ]
  }
 ],
 "metadata": {
  "kernelspec": {
   "display_name": "Python 3",
   "language": "python",
   "name": "python3"
  },
  "language_info": {
   "codemirror_mode": {
    "name": "ipython",
    "version": 3
   },
   "file_extension": ".py",
   "mimetype": "text/x-python",
   "name": "python",
   "nbconvert_exporter": "python",
   "pygments_lexer": "ipython3",
   "version": "3.7.16"
  },
  "vscode": {
   "interpreter": {
    "hash": "e2eff005cba963436423ee35268d3875b7076a7dfef8bee54735675e9a1cba2f"
   }
  }
 },
 "nbformat": 4,
 "nbformat_minor": 5
}

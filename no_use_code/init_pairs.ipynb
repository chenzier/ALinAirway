{
 "cells": [
  {
   "cell_type": "code",
   "execution_count": null,
   "metadata": {},
   "outputs": [],
   "source": [
    "#粗支气管\n",
    "input_cu_pairs = [\n",
    "    (7, 403),\n",
    "    (15, 347),\n",
    "    (1, 539),\n",
    "    (15, 355),\n",
    "    (17, 347),\n",
    "    (1, 411),\n",
    "    (9, 403),\n",
    "    (18, 419),\n",
    "    (12, 227),\n",
    "    (12, 218)\n",
    "]\n",
    "\n",
    "input_xi_pairs= [\n",
    "    (11, 165),\n",
    "    (16, 228),\n",
    "    (11, 153),\n",
    "    (10, 153),\n",
    "    (19, 89),\n",
    "    (19, 90),\n",
    "    (8, 154),\n",
    "    (14, 281),\n",
    "    (14, 285),\n",
    "    (9, 154)\n",
    "]\n",
    "\n",
    "input_wu_pairs= [\n",
    "    (13, 46),\n",
    "    (13, 166),\n",
    "    (12, 151),\n",
    "    (8, 277),\n",
    "    (7, 143),\n",
    "    (12, 169),\n",
    "    (4, 280),\n",
    "    (8, 160),\n",
    "    (10, 167),\n",
    "    (20, 278)\n",
    "]\n",
    "\n",
    "\n"
   ]
  },
  {
   "cell_type": "code",
   "execution_count": null,
   "metadata": {},
   "outputs": [],
   "source": []
  },
  {
   "cell_type": "code",
   "execution_count": null,
   "metadata": {},
   "outputs": [],
   "source": []
  },
  {
   "cell_type": "code",
   "execution_count": null,
   "metadata": {},
   "outputs": [],
   "source": []
  }
 ],
 "metadata": {
  "language_info": {
   "name": "python"
  },
  "orig_nbformat": 4
 },
 "nbformat": 4,
 "nbformat_minor": 2
}

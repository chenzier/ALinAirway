{
 "cells": [
  {
   "cell_type": "code",
   "execution_count": 1,
   "metadata": {},
   "outputs": [],
   "source": [
    "#执行这个文件必须在python 3.8版本下\n",
    "import os\n",
    "import numpy as np\n",
    "import pickle\n",
    "from active_utils.file_tools import save_obj,load_obj\n",
    "from active_utils.dataset_process_tools import DatasetInfo,split_train_test_sets\n",
    "import random\n",
    "\n",
    "    \n"
   ]
  },
  {
   "cell_type": "code",
   "execution_count": 56,
   "metadata": {},
   "outputs": [],
   "source": [
    "# import os\n",
    "\n",
    "# def rename_files(path):\n",
    "#     for root, dirs, files in os.walk(path):\n",
    "#         for file in files:\n",
    "#             old_file_path = os.path.join(root, file)\n",
    "#             new_file_name = file.replace('-', '_')\n",
    "#             new_file_path = os.path.join(root, new_file_name)\n",
    "#             os.rename(old_file_path, new_file_path)\n",
    "\n",
    "\n",
    "\n",
    "# rename_files(\"/mnt/wangc/LIDC/image/\")\n",
    "# rename_files(\"/mnt/wangc/LIDC/label/\")"
   ]
  },
  {
   "cell_type": "markdown",
   "metadata": {},
   "source": [
    "## 加载EXACT09和LIDC数据集"
   ]
  },
  {
   "cell_type": "code",
   "execution_count": 2,
   "metadata": {},
   "outputs": [],
   "source": [
    "LidcInfo = DatasetInfo(\"/mnt/wangc/LIDC/Precrop_dataset_for_LIDC-IDRI_128\", \"lidc\", 128)\n",
    "LidcInfo.get_case_names(\"/mnt/wangc/LIDC\", \"lidc\")\n",
    "Exact09Info = DatasetInfo(\n",
    "    \"/mnt/wangc/EXACT09/Precrop_dataset_for_EXACT09_128\", \"exact09\", 128\n",
    ")\n",
    "Exact09Info.get_case_names(\"/mnt/wangc/EXACT09/EXACT09_3D\", \"exact09\")\n"
   ]
  },
  {
   "cell_type": "code",
   "execution_count": 14,
   "metadata": {},
   "outputs": [],
   "source": [
    "LidcInfo_old = DatasetInfo(\"/data/wangc/lidc/Precrop_dataset_for_LIDC-IDRI_128\", \"lidc\", 128)\n",
    "LidcInfo_old.get_case_names(\"/data/wangc/lidc\", \"lidc\")"
   ]
  },
  {
   "cell_type": "code",
   "execution_count": 3,
   "metadata": {},
   "outputs": [
    {
     "name": "stdout",
     "output_type": "stream",
     "text": [
      "70\n"
     ]
    },
    {
     "data": {
      "text/plain": [
       "array(['LIDC_IDRI_0066', 'LIDC_IDRI_0140', 'LIDC_IDRI_0292',\n",
       "       'LIDC_IDRI_0299', 'LIDC_IDRI_0328', 'LIDC_IDRI_0367',\n",
       "       'LIDC_IDRI_0371', 'LIDC_IDRI_0376', 'LIDC_IDRI_0384',\n",
       "       'LIDC_IDRI_0403', 'LIDC_IDRI_0406', 'LIDC_IDRI_0411',\n",
       "       'LIDC_IDRI_0429', 'LIDC_IDRI_0430', 'LIDC_IDRI_0438',\n",
       "       'LIDC_IDRI_0441', 'LIDC_IDRI_0443', 'LIDC_IDRI_0448',\n",
       "       'LIDC_IDRI_0460', 'LIDC_IDRI_0479', 'LIDC_IDRI_0488',\n",
       "       'LIDC_IDRI_0490', 'LIDC_IDRI_0491', 'LIDC_IDRI_0529',\n",
       "       'LIDC_IDRI_0536', 'LIDC_IDRI_0606', 'LIDC_IDRI_0609',\n",
       "       'LIDC_IDRI_0621', 'LIDC_IDRI_0648', 'LIDC_IDRI_0651',\n",
       "       'LIDC_IDRI_0657', 'LIDC_IDRI_0663', 'LIDC_IDRI_0667',\n",
       "       'LIDC_IDRI_0672', 'LIDC_IDRI_0673', 'LIDC_IDRI_0676',\n",
       "       'LIDC_IDRI_0684', 'LIDC_IDRI_0696', 'LIDC_IDRI_0698',\n",
       "       'LIDC_IDRI_0710', 'LIDC_IDRI_0722', 'LIDC_IDRI_0727',\n",
       "       'LIDC_IDRI_0728', 'LIDC_IDRI_0744', 'LIDC_IDRI_0756',\n",
       "       'LIDC_IDRI_0757', 'LIDC_IDRI_0778', 'LIDC_IDRI_0784',\n",
       "       'LIDC_IDRI_0806', 'LIDC_IDRI_0810', 'LIDC_IDRI_0813',\n",
       "       'LIDC_IDRI_0819', 'LIDC_IDRI_0831', 'LIDC_IDRI_0837',\n",
       "       'LIDC_IDRI_0849', 'LIDC_IDRI_0856', 'LIDC_IDRI_0857',\n",
       "       'LIDC_IDRI_0874', 'LIDC_IDRI_0876', 'LIDC_IDRI_0895',\n",
       "       'LIDC_IDRI_0897', 'LIDC_IDRI_0900', 'LIDC_IDRI_0909',\n",
       "       'LIDC_IDRI_0920', 'LIDC_IDRI_0943', 'LIDC_IDRI_0963',\n",
       "       'LIDC_IDRI_0981', 'LIDC_IDRI_0982', 'LIDC_IDRI_1001',\n",
       "       'LIDC_IDRI_1004'], dtype='<U14')"
      ]
     },
     "execution_count": 3,
     "metadata": {},
     "output_type": "execute_result"
    }
   ],
   "source": [
    "print(len(LidcInfo.processed_names))\n",
    "LidcInfo.processed_names"
   ]
  },
  {
   "cell_type": "code",
   "execution_count": 4,
   "metadata": {},
   "outputs": [],
   "source": [
    "\n",
    "# create_data_dict会比较慢，大约1分钟，也可以用之前保存的字典\n",
    "LidcInfo.create_data_dict()\n",
    "Exact09Info.create_data_dict()\n",
    "\n",
    "# Exact09Info.data_dict=load_obj(\"/home/wangc/now/NaviAirway/saved_objs/for_128_objs/exact_128_info.pkl\")\n",
    "# LidcInfo.data_dict=load_obj(\"/home/wangc/now/NaviAirway/saved_objs/for_128_objs/lidc_128_info\")\n"
   ]
  },
  {
   "cell_type": "markdown",
   "metadata": {},
   "source": [
    "## 将数据集分为 训练集/测试集"
   ]
  },
  {
   "cell_type": "code",
   "execution_count": 16,
   "metadata": {},
   "outputs": [
    {
     "name": "stdout",
     "output_type": "stream",
     "text": [
      "90 40\n"
     ]
    }
   ],
   "source": [
    "names = np.concatenate((Exact09Info.processed_names,LidcInfo.processed_names))\n",
    "\n",
    "old_lidc_name = LidcInfo_old.processed_names\n",
    "print(len(names),len(old_lidc_name))"
   ]
  },
  {
   "cell_type": "code",
   "execution_count": 20,
   "metadata": {},
   "outputs": [
    {
     "name": "stdout",
     "output_type": "stream",
     "text": [
      "30\n"
     ]
    }
   ],
   "source": [
    "new_names = []\n",
    "for name in names:\n",
    "    if name not in old_lidc_name and name not in Exact09Info.processed_names:\n",
    "        new_names.append(name)\n",
    "print(len(new_names))"
   ]
  },
  {
   "cell_type": "code",
   "execution_count": 21,
   "metadata": {},
   "outputs": [
    {
     "data": {
      "text/plain": [
       "['LIDC_IDRI_0943',\n",
       " 'LIDC_IDRI_0488',\n",
       " 'LIDC_IDRI_0895',\n",
       " 'LIDC_IDRI_0491',\n",
       " 'LIDC_IDRI_0299',\n",
       " 'LIDC_IDRI_0443',\n",
       " 'LIDC_IDRI_0667',\n",
       " 'LIDC_IDRI_0609',\n",
       " 'LIDC_IDRI_0963',\n",
       " 'LIDC_IDRI_0448',\n",
       " 'LIDC_IDRI_0849',\n",
       " 'LIDC_IDRI_0479',\n",
       " 'LIDC_IDRI_0411',\n",
       " 'LIDC_IDRI_0857',\n",
       " 'LIDC_IDRI_0384',\n",
       " 'LIDC_IDRI_0728',\n",
       " 'LIDC_IDRI_0367',\n",
       " 'LIDC_IDRI_0806',\n",
       " 'LIDC_IDRI_0897',\n",
       " 'LIDC_IDRI_0756']"
      ]
     },
     "execution_count": 21,
     "metadata": {},
     "output_type": "execute_result"
    }
   ],
   "source": [
    "# 随机从新的数据集中选取20个case作为测试集\n",
    "random.seed(0)\n",
    "test_names2 = random.sample(new_names, 20)\n",
    "test_names2"
   ]
  },
  {
   "cell_type": "code",
   "execution_count": 24,
   "metadata": {},
   "outputs": [
    {
     "name": "stdout",
     "output_type": "stream",
     "text": [
      "20 70 90\n",
      "60 10 20\n"
     ]
    }
   ],
   "source": [
    "names = np.concatenate((Exact09Info.processed_names,LidcInfo.processed_names))\n",
    "# names = np.concatenate((EXACT09_names,LIDC_IDRI_names))\n",
    "print(len(Exact09Info.processed_names),len(LidcInfo.processed_names),len(names))\n",
    "# you can split train/test by yourself\n",
    "# just show an example\n",
    "\n",
    "test_names1 = [\n",
    "\"LIDC_IDRI_0066\",\n",
    "\"LIDC_IDRI_0328\",\n",
    "\"LIDC_IDRI_0376\",\n",
    "\"LIDC_IDRI_0441\",\n",
    "\"EXACT09_CASE13\",\n",
    "\"LIDC_IDRI_0744\",\n",
    "\"EXACT09_CASE08\",\n",
    "\"EXACT09_CASE01\",\n",
    "\"EXACT09_CASE05\",\n",
    "\"LIDC_IDRI_1004\",\n",
    "]\n",
    "\n",
    "test_names2 =['LIDC_IDRI_0943',\n",
    " 'LIDC_IDRI_0488',\n",
    " 'LIDC_IDRI_0895',\n",
    " 'LIDC_IDRI_0491',\n",
    " 'LIDC_IDRI_0299',\n",
    " 'LIDC_IDRI_0443',\n",
    " 'LIDC_IDRI_0667',\n",
    " 'LIDC_IDRI_0609',\n",
    " 'LIDC_IDRI_0963',\n",
    " 'LIDC_IDRI_0448',\n",
    " 'LIDC_IDRI_0849',\n",
    " 'LIDC_IDRI_0479',\n",
    " 'LIDC_IDRI_0411',\n",
    " 'LIDC_IDRI_0857',\n",
    " 'LIDC_IDRI_0384',\n",
    " 'LIDC_IDRI_0728',\n",
    " 'LIDC_IDRI_0367',\n",
    " 'LIDC_IDRI_0806',\n",
    " 'LIDC_IDRI_0897',\n",
    " 'LIDC_IDRI_0756']\n",
    "train_names = []\n",
    "for name in names:\n",
    "    if name not in test_names1 and name not in test_names2:\n",
    "        # print(name)\n",
    "        train_names.append(name)\n",
    "train_names=np.array(train_names)\n",
    "# print(\"train names: \"+str(train_names))\n",
    "print(len(train_names),len(test_names1), len(test_names2))"
   ]
  },
  {
   "cell_type": "code",
   "execution_count": 25,
   "metadata": {},
   "outputs": [],
   "source": [
    "test_names = test_names2 + test_names1\n",
    "train_test_set_dict_128 = split_train_test_sets(Exact09Info.data_dict, LidcInfo.data_dict, train_names, test_names)\n",
    "data_dict_org_128 = train_test_set_dict_128[\"train\"]"
   ]
  },
  {
   "cell_type": "code",
   "execution_count": null,
   "metadata": {},
   "outputs": [],
   "source": []
  },
  {
   "cell_type": "code",
   "execution_count": null,
   "metadata": {},
   "outputs": [],
   "source": [
    "# train_test_set_dict_256 = split_train_test_sets(data_dict_EXACT09_256, data_dict_LIDC_IDRI_256, train_names, test_names)\n",
    "# data_dict_org_256 = train_test_set_dict_256[\"train\"]\n",
    "\n",
    "# train_test_set_dict_128 = split_train_test_sets(data_dict_EXACT09_128, data_dict_LIDC_IDRI_128, train_names, test_names)\n",
    "# data_dict_org_128 = train_test_set_dict_128[\"train\"]"
   ]
  },
  {
   "cell_type": "code",
   "execution_count": 26,
   "metadata": {},
   "outputs": [
    {
     "data": {
      "text/plain": [
       "30208"
      ]
     },
     "execution_count": 26,
     "metadata": {},
     "output_type": "execute_result"
    }
   ],
   "source": [
    "data_dict_org_128 = train_test_set_dict_128[\"train\"]\n",
    "len(data_dict_org_128)"
   ]
  },
  {
   "cell_type": "code",
   "execution_count": 27,
   "metadata": {},
   "outputs": [],
   "source": [
    "save_obj(data_dict_org_128,'/home/wangc/now/pure/saved_objs/for_128_objs/data_dict_org')"
   ]
  },
  {
   "cell_type": "markdown",
   "metadata": {},
   "source": [
    "## 获取训练集info"
   ]
  },
  {
   "cell_type": "markdown",
   "metadata": {},
   "source": [
    "### 之前保存过的一些info"
   ]
  },
  {
   "cell_type": "code",
   "execution_count": 30,
   "metadata": {},
   "outputs": [
    {
     "data": {
      "text/plain": [
       "30208"
      ]
     },
     "execution_count": 30,
     "metadata": {},
     "output_type": "execute_result"
    }
   ],
   "source": [
    "# save_obj(data_dict_org,'/home/wangc/now/NaviAirway/saved_objs/for_128_objs/data_dict_org')\n",
    "\n",
    "data_dict_org=load_obj('/home/wangc/now/pure/saved_objs/for_128_objs/data_dict_org.pkl')\n",
    "len(data_dict_org)\n",
    "\n",
    "# data_dict_only_negtive=load_obj('/home/wangc/now/NaviAirway/saved_objs/for_128_objs/data_dict_only_negtive')\n",
    "# len(data_dict_only_negtive)\n"
   ]
  },
  {
   "cell_type": "markdown",
   "metadata": {},
   "source": [
    "### 随机提取部分数据集"
   ]
  },
  {
   "cell_type": "code",
   "execution_count": 31,
   "metadata": {},
   "outputs": [],
   "source": [
    "import random\n",
    "\n",
    "\n",
    "def extract_random_num_percent_by_key(num,dictionary):#随机抽取字典中num个样本\n",
    "    keys = list(dictionary.keys())\n",
    "    random.shuffle(keys)\n",
    "    randon_dict={key: dictionary[key] for key in keys}\n",
    "\n",
    "    num_elements = len(keys)\n",
    "    num_to_extract = int(num_elements * num)\n",
    "    top_num_percent_keys = keys[:num_to_extract]\n",
    "    return {key: randon_dict[key] for key in top_num_percent_keys}\n"
   ]
  },
  {
   "cell_type": "code",
   "execution_count": 32,
   "metadata": {},
   "outputs": [],
   "source": [
    "data_dict_20=extract_random_num_percent_by_key(0.2,data_dict_org)\n",
    "data_dict_40=extract_random_num_percent_by_key(0.4,data_dict_org)\n",
    "data_dict_70=extract_random_num_percent_by_key(0.7,data_dict_org)\n",
    "# save_obj(data_dict_20, \"/home/wangc/now/NaviAirway/saved_objs/for_128_objs/training_info_0119/random_info_30\")\n",
    "save_obj(data_dict_20, \"/home/wangc/now/pure/saved_objs/for_128_objs/training_info_1227/random_info_20\")\n",
    "save_obj(data_dict_40, \"/home/wangc/now/pure/saved_objs/for_128_objs/training_info_1227/random_info_40\")\n",
    "save_obj(data_dict_70, \"/home/wangc/now/pure/saved_objs/for_128_objs/training_info_1227/random_info_70\")\n",
    "# save_obj(data_dict_60, \"/home/wangc/now/NaviAirway/saved_objs/for_128_objs/training_info_0119/random_info_60\")\n"
   ]
  },
  {
   "cell_type": "markdown",
   "metadata": {},
   "source": [
    "## 基于uncertainy的训练数据获取"
   ]
  },
  {
   "cell_type": "code",
   "execution_count": 7,
   "metadata": {},
   "outputs": [],
   "source": [
    "#总样本数num1=比例*len(data_dict_org)\n",
    "#从negtive抽取等比例的样本放到result_dict\n",
    "#根据org和negtive的len计算num1\n",
    "#取uncertainy前num个样本放到dict2\n",
    "#使用save_obj保存\n",
    "\n",
    "import random\n",
    "\n",
    "def select_from_uncertainy(uncertainy_path,data_dict1,data_dict2,num,save_path=None):\n",
    "    #对于negtive,抽取m%的样本\n",
    "    def extract_random_num_percent_by_key(num,dictionary):#随机抽取字典中num个样本\n",
    "        keys = list(dictionary.keys())\n",
    "        random.shuffle(keys)\n",
    "        randon_dict={key: dictionary[key] for key in keys}\n",
    "\n",
    "        num_elements = len(keys)\n",
    "        num_to_extract = int(num_elements * num)\n",
    "        top_num_percent_keys = keys[:num_to_extract]\n",
    "        return {key: randon_dict[key] for key in top_num_percent_keys}\n",
    "    result_dict=extract_random_num_percent_by_key(num,data_dict2)\n",
    "    #计算从uncertainy抽取的样本数num3\n",
    "    num1=int(num*len(data_dict_org))\n",
    "    num2=len(result_dict)\n",
    "    num3=num1-num2\n",
    "\n",
    "    #读取uncertainy_dict\n",
    "    with open(uncertainy_path, 'rb') as file:\n",
    "        loaded_data = pickle.load(file)\n",
    "        uncertainy_dict = loaded_data['uncertainy_dict']\n",
    "    print(len(uncertainy_dict))\n",
    "    #将uncertainy升序排序\n",
    "    sorted_dict = dict(sorted(uncertainy_dict.items(), key=lambda item: item[1]))\n",
    "    sorted_list = list(sorted_dict.keys())\n",
    "\n",
    "    #抽取前sample_number个样本并放入result_dict\n",
    "    al_list = sorted_list[:num3]\n",
    "    for i in al_list:\n",
    "        print(i)\n",
    "        temp = i[:-7]\n",
    "        result_dict[temp] = data_dict1[temp]\n",
    "\n",
    "    #使用save_obj函数保存\n",
    "    if save_path is not None:\n",
    "        save_obj(result_dict, save_path)\n",
    "    return num1,num2,num3\n"
   ]
  },
  {
   "cell_type": "code",
   "execution_count": null,
   "metadata": {},
   "outputs": [],
   "source": [
    "\n",
    "\n",
    "data_dict_org=load_obj('/home/wangc/now/NaviAirway/saved_objs/for_128_objs/data_dict_org.pkl')\n",
    "data_dict_only_negtive=load_obj('/home/wangc/now/NaviAirway/saved_objs/for_128_objs/data_dict_only_negtive')\n",
    "uncertainy_path = '/home/wangc/now/NaviAirway/saved_var/uncertainy_128_data.pkl'\n",
    "\n",
    "num=0.6\n",
    "save_path=f'/home/wangc/now/NaviAirway/saved_objs/for_128_objs/training_info_0119/al_info_{int(num*100)}1'\n",
    "# # select_from_uncertainy(uncertainy_path,data_dict_org,data_dict_only_negtive,num,save_path)\n",
    "# num1,num2,num3=select_from_uncertainy(uncertainy_path,data_dict_org,data_dict_only_negtive,num,save_path=save_path)\n",
    "# num1,num2,num3\n",
    "select_from_uncertainy(uncertainy_path,data_dict_org,data_dict_only_negtive,num,save_path=save_path)"
   ]
  },
  {
   "cell_type": "code",
   "execution_count": null,
   "metadata": {},
   "outputs": [],
   "source": [
    "\n",
    "\n",
    "data_dict_org=load_obj('/home/wangc/now/NaviAirway/saved_objs/for_128_objs/data_dict_org.pkl')\n",
    "data_dict_only_negtive=load_obj('/home/wangc/now/NaviAirway/saved_objs/for_128_objs/data_dict_only_negtive')\n",
    "ae_uncertainy_path = '/home/wangc/now/NaviAirway/saved_var/ae1_uncertainy.pkl'\n",
    "\n",
    "num=0.6\n",
    "save_path=f'/home/wangc/now/NaviAirway/saved_objs/for_128_objs/training_info_0119/ae1_info_{int(num*100)}'\n",
    "# select_from_uncertainy(uncertainy_path,data_dict_org,data_dict_only_negtive,num,save_path)\n",
    "num1,num2,num3=select_from_uncertainy(ae_uncertainy_path ,data_dict_org,data_dict_only_negtive,num,save_path=save_path)\n",
    "num1,num2,num3"
   ]
  },
  {
   "cell_type": "code",
   "execution_count": 21,
   "metadata": {},
   "outputs": [
    {
     "name": "stdout",
     "output_type": "stream",
     "text": [
      "True\n",
      "17516 25024\n"
     ]
    }
   ],
   "source": [
    "data_dict70=load_obj('/home/wangc/now/NaviAirway/saved_objs/for_128_objs/training_info/random_info_703.pkl')\n",
    "data_dict100=load_obj('/home/wangc/now/NaviAirway/saved_objs/for_128_objs/training_info/random_info_1002.pkl')\n",
    "data_dict100.keys()\n",
    "flag=True\n",
    "for key in data_dict70.keys():\n",
    "    if key not in data_dict100.keys():\n",
    "        flag=False\n",
    "print(flag)\n",
    "print(len(data_dict70),len(data_dict100))"
   ]
  }
 ],
 "metadata": {
  "kernelspec": {
   "display_name": "test1",
   "language": "python",
   "name": "python3"
  },
  "language_info": {
   "codemirror_mode": {
    "name": "ipython",
    "version": 3
   },
   "file_extension": ".py",
   "mimetype": "text/x-python",
   "name": "python",
   "nbconvert_exporter": "python",
   "pygments_lexer": "ipython3",
   "version": "3.8.16"
  }
 },
 "nbformat": 4,
 "nbformat_minor": 2
}

{
 "cells": [
  {
   "cell_type": "code",
   "execution_count": 1,
   "metadata": {},
   "outputs": [
    {
     "name": "stderr",
     "output_type": "stream",
     "text": [
      "/home/wangc/anaconda3/envs/test1/lib/python3.8/site-packages/tqdm/auto.py:22: TqdmWarning: IProgress not found. Please update jupyter and ipywidgets. See https://ipywidgets.readthedocs.io/en/stable/user_install.html\n",
      "  from .autonotebook import tqdm as notebook_tqdm\n"
     ]
    }
   ],
   "source": [
    "#执行这个文件必须在python 3.8版本下\n",
    "import os\n",
    "import numpy as np\n",
    "import pickle\n",
    "import edt\n",
    "from active_learning_utils import save_obj,load_obj\n",
    "\n",
    "    \n"
   ]
  },
  {
   "cell_type": "code",
   "execution_count": 2,
   "metadata": {},
   "outputs": [],
   "source": [
    "al_dict=load_obj('/home/wangc/now/NaviAirway/saved_objs/for_256_objs/training_info/al_20_dict.pkl')"
   ]
  },
  {
   "cell_type": "code",
   "execution_count": null,
   "metadata": {},
   "outputs": [],
   "source": []
  },
  {
   "cell_type": "code",
   "execution_count": 3,
   "metadata": {},
   "outputs": [],
   "source": [
    "al_list=list(al_dict.keys())"
   ]
  },
  {
   "cell_type": "code",
   "execution_count": 4,
   "metadata": {},
   "outputs": [],
   "source": [
    "test=load_obj(\"/home/wangc/now/NaviAirway/saved_objs/for_128_objs/set_indices\")"
   ]
  },
  {
   "cell_type": "code",
   "execution_count": 1,
   "metadata": {},
   "outputs": [
    {
     "ename": "NameError",
     "evalue": "name 'load_obj' is not defined",
     "output_type": "error",
     "traceback": [
      "\u001b[0;31m---------------------------------------------------------------------------\u001b[0m",
      "\u001b[0;31mNameError\u001b[0m                                 Traceback (most recent call last)",
      "Cell \u001b[0;32mIn[1], line 3\u001b[0m\n\u001b[1;32m      1\u001b[0m indexs\u001b[38;5;241m=\u001b[39m[\u001b[38;5;241m20\u001b[39m,\u001b[38;5;241m40\u001b[39m,\u001b[38;5;241m70\u001b[39m]\n\u001b[1;32m      2\u001b[0m \u001b[38;5;28;01mfor\u001b[39;00m index \u001b[38;5;129;01min\u001b[39;00m indexs:\n\u001b[0;32m----> 3\u001b[0m     al_dict\u001b[38;5;241m=\u001b[39m\u001b[43mload_obj\u001b[49m(\u001b[38;5;124mf\u001b[39m\u001b[38;5;124m'\u001b[39m\u001b[38;5;124m/home/wangc/now/NaviAirway/saved_objs/for_128_objs/training_info/al_\u001b[39m\u001b[38;5;132;01m{\u001b[39;00mindex\u001b[38;5;132;01m}\u001b[39;00m\u001b[38;5;124m_dict.pkl\u001b[39m\u001b[38;5;124m'\u001b[39m)\n\u001b[1;32m      4\u001b[0m     al_list\u001b[38;5;241m=\u001b[39m\u001b[38;5;28mlist\u001b[39m(al_dict\u001b[38;5;241m.\u001b[39mkeys())\n\u001b[1;32m      5\u001b[0m     a,b\u001b[38;5;241m=\u001b[39m\u001b[38;5;241m0\u001b[39m,\u001b[38;5;241m0\u001b[39m\n",
      "\u001b[0;31mNameError\u001b[0m: name 'load_obj' is not defined"
     ]
    }
   ],
   "source": [
    "indexs=[20,40,70]\n",
    "for index in indexs:\n",
    "    al_dict=load_obj(f'/home/wangc/now/NaviAirway/saved_objs/for_128_objs/training_info/al_{index}_dict.pkl')\n",
    "    al_list=list(al_dict.keys())\n",
    "    a,b=0,0\n",
    "    for p in al_list:\n",
    "        i=p+'.nii.gz'\n",
    "        # print(i)\n",
    "        if i in test['give_init']['class_0']:\n",
    "            a+=1\n",
    "        if i in test['give_init']['class_1']:\n",
    "            b+=1\n",
    "    print(a/b,len(test['give_init']['class_0'])/len(test['give_init']['class_1']))\n",
    "    # print(len(al_dict))"
   ]
  },
  {
   "cell_type": "code",
   "execution_count": 41,
   "metadata": {},
   "outputs": [
    {
     "data": {
      "text/plain": [
       "0.7112860892388452"
      ]
     },
     "execution_count": 41,
     "metadata": {},
     "output_type": "execute_result"
    }
   ],
   "source": [
    "a/b"
   ]
  },
  {
   "cell_type": "code",
   "execution_count": 42,
   "metadata": {},
   "outputs": [
    {
     "data": {
      "text/plain": [
       "0.5037593984962406"
      ]
     },
     "execution_count": 42,
     "metadata": {},
     "output_type": "execute_result"
    }
   ],
   "source": [
    "len(test['give_init']['class_0'])/len(test['give_init']['class_1'])"
   ]
  },
  {
   "cell_type": "code",
   "execution_count": 1,
   "metadata": {},
   "outputs": [
    {
     "name": "stderr",
     "output_type": "stream",
     "text": [
      "/home/wangc/anaconda3/envs/test1/lib/python3.8/site-packages/tqdm/auto.py:22: TqdmWarning: IProgress not found. Please update jupyter and ipywidgets. See https://ipywidgets.readthedocs.io/en/stable/user_install.html\n",
      "  from .autonotebook import tqdm as notebook_tqdm\n"
     ]
    }
   ],
   "source": [
    "import numpy as np\n",
    "import torch\n",
    "import os\n",
    "# os.environ[\"CUDA_VISIBLE_DEVICES\"] = \"4,5\"\n",
    "import skimage.io as io\n",
    "import matplotlib.pyplot as plt\n",
    "from sklearn.manifold import TSNE\n",
    "from torch import from_numpy as from_numpy\n",
    "from matplotlib.colors import ListedColormap\n",
    "import matplotlib.patches as mpatches\n",
    "\n",
    "from active_learning_utils import process_images,visualize_and_return_indices,show_all_2d_img_with_labels,kmeans,save_obj,load_obj,load_partial_embeddings\n",
    "import pickle\n",
    "\n",
    "import sys\n",
    "sys.path.append('../')  # 将上一层目录添加到模块搜索路径中\n",
    "from func.model_arch2 import SegAirwayModel\n",
    "\n",
    "import torch.utils.data as data_utils\n",
    "\n",
    "\n",
    "import edt\n",
    "\n",
    "\n",
    "import torch\n",
    "import torch.distributed as dist\n",
    "from torch.nn.parallel import DistributedDataParallel\n",
    "from torch.utils.data.distributed import DistributedSampler\n",
    "\n",
    "\n",
    "# 设置分布式环境\n",
    "# local_rank = int(os.environ.get(\"LOCAL_RANK\", 0))\n",
    "\n",
    "\n",
    "\n",
    "crop_size=['128','256']\n",
    "file_insert=crop_size[0]\n",
    "Precrop_dataset_for_train_path = f\"/mnt/wangc/EXACT09/Precrop_dataset_for_EXACT09_{file_insert}\"\n",
    "Precrop_dataset_for_train_raw_path = Precrop_dataset_for_train_path+\"/image\"\n",
    "Precrop_dataset_for_train_label_path = Precrop_dataset_for_train_path+\"/label\"\n",
    "\n",
    "raw_case_name_list = os.listdir(Precrop_dataset_for_train_raw_path)\n",
    "# print(len(raw_case_name_list))\n",
    "\n",
    "lidc_dataset_for_train_path=f'/mnt/wangc/LIDC/Precrop_dataset_for_LIDC-IDRI_{file_insert}'\n",
    "lidc_dataset_for_train_raw_path =lidc_dataset_for_train_path+\"/image\"\n",
    "lidc_dataset_for_train_label_path = lidc_dataset_for_train_path+\"/label\"\n",
    "lidc_raw_case_name_list = os.listdir(lidc_dataset_for_train_raw_path)"
   ]
  },
  {
   "cell_type": "code",
   "execution_count": 4,
   "metadata": {},
   "outputs": [
    {
     "name": "stdout",
     "output_type": "stream",
     "text": [
      "exact 2441 lidc 6205\n",
      "(7126, 262144)\n"
     ]
    }
   ],
   "source": [
    "file_path1=f'/home/wangc/now/NaviAirway/saved_var/exact09_{file_insert}_op_embeddings_data.pkl'\n",
    "file_path2=f'/home/wangc/now/NaviAirway/saved_var/lidc_{file_insert}_op_embeddings_data.pkl'\n",
    "test_names = ['LIDC_IDRI_0066', 'LIDC_IDRI_0328', 'LIDC_IDRI_0376',\n",
    "'LIDC_IDRI_0441',  'LIDC_IDRI_0744', 'LIDC_IDRI_1004','EXACT09_CASE13',\n",
    "'EXACT09_CASE08', 'EXACT09_CASE01', 'EXACT09_CASE05']\n",
    "def load_partial_embeddings(file_path1, file_path2, train_names=None,test_names=None):\n",
    "    with open(file_path1, 'rb') as file:\n",
    "        loaded_data = pickle.load(file)\n",
    "        exact_embeddings_list = loaded_data['embeddings_list']\n",
    "        exact_embeddings_dict = loaded_data['embeddings_dict']\n",
    "\n",
    "    exact_stacked_embeddings_numpy = np.stack(exact_embeddings_list, axis=0)\n",
    "\n",
    "    with open(file_path2, 'rb') as file:\n",
    "        loaded_data = pickle.load(file)\n",
    "        lidc_embeddings_list = loaded_data['embeddings_list']\n",
    "        lidc_embeddings_dict = loaded_data['embeddings_dict']\n",
    "    print('exact',len(exact_embeddings_dict),'lidc',len(lidc_embeddings_dict))\n",
    "    lidc_stacked_embeddings_numpy = np.stack(lidc_embeddings_list, axis=0)\n",
    "    names=['EXACT09_CASE01', 'EXACT09_CASE02', 'EXACT09_CASE03',\n",
    "       'EXACT09_CASE04', 'EXACT09_CASE05', 'EXACT09_CASE06',\n",
    "       'EXACT09_CASE07', 'EXACT09_CASE08', 'EXACT09_CASE09',\n",
    "       'EXACT09_CASE10', 'EXACT09_CASE11', 'EXACT09_CASE12',\n",
    "       'EXACT09_CASE13', 'EXACT09_CASE14', 'EXACT09_CASE15',\n",
    "       'EXACT09_CASE16', 'EXACT09_CASE17', 'EXACT09_CASE18',\n",
    "       'EXACT09_CASE19', 'EXACT09_CASE20', 'LIDC_IDRI_0066',\n",
    "       'LIDC_IDRI_0140', 'LIDC_IDRI_0328', 'LIDC_IDRI_0376',\n",
    "       'LIDC_IDRI_0403', 'LIDC_IDRI_0430', 'LIDC_IDRI_0438',\n",
    "       'LIDC_IDRI_0441', 'LIDC_IDRI_0490', 'LIDC_IDRI_0529',\n",
    "       'LIDC_IDRI_0606', 'LIDC_IDRI_0621', 'LIDC_IDRI_0648',\n",
    "       'LIDC_IDRI_0651', 'LIDC_IDRI_0657', 'LIDC_IDRI_0663',\n",
    "       'LIDC_IDRI_0673', 'LIDC_IDRI_0676', 'LIDC_IDRI_0684',\n",
    "       'LIDC_IDRI_0696', 'LIDC_IDRI_0698', 'LIDC_IDRI_0710',\n",
    "       'LIDC_IDRI_0722', 'LIDC_IDRI_0744', 'LIDC_IDRI_0757',\n",
    "       'LIDC_IDRI_0778', 'LIDC_IDRI_0784', 'LIDC_IDRI_0810',\n",
    "       'LIDC_IDRI_0813', 'LIDC_IDRI_0819', 'LIDC_IDRI_0831',\n",
    "       'LIDC_IDRI_0837', 'LIDC_IDRI_0856', 'LIDC_IDRI_0874',\n",
    "       'LIDC_IDRI_0876', 'LIDC_IDRI_0909', 'LIDC_IDRI_0920',\n",
    "       'LIDC_IDRI_0981', 'LIDC_IDRI_1001', 'LIDC_IDRI_1004']\n",
    "    if train_names is None and test_names is None:\n",
    "        assert False\n",
    "    if train_names is None:\n",
    "        train_names = [name for name in names if name not in test_names]\n",
    "    i = 0\n",
    "    new_list = []\n",
    "    new_dict = {}\n",
    "    for key, v in exact_embeddings_dict.items():\n",
    "        # print(key,key[:14])\n",
    "        if key[:14] in train_names or key in train_names:\n",
    "            new_list.append(exact_embeddings_list[i])\n",
    "            new_dict[key] = exact_embeddings_dict[key]\n",
    "        i += 1\n",
    "    exact_embeddings_list = new_list\n",
    "    exact_embeddings_dict = new_dict\n",
    "\n",
    "    i = 0\n",
    "    new_list = []\n",
    "    new_dict = {}\n",
    "    for key, v in lidc_embeddings_dict.items():\n",
    "        if key[:14] in train_names or key in train_names:\n",
    "            new_list.append(lidc_embeddings_list[i])\n",
    "            new_dict[key] = lidc_embeddings_dict[key]\n",
    "        i += 1\n",
    "    lidc_embeddings_list = new_list\n",
    "    lidc_embeddings_dict = new_dict\n",
    "\n",
    "    exact_stacked_embeddings_numpy = np.stack(exact_embeddings_list, axis=0)\n",
    "    lidc_stacked_embeddings_numpy = np.stack(lidc_embeddings_list, axis=0)\n",
    "\n",
    "    exact_lidc_concatenated_array = np.concatenate((exact_stacked_embeddings_numpy, lidc_stacked_embeddings_numpy), axis=0)\n",
    "    merged_dict = {**exact_embeddings_dict, **lidc_embeddings_dict}\n",
    "    merged_list = list(exact_embeddings_dict.keys()) + list(lidc_embeddings_dict.keys())\n",
    "\n",
    "    return exact_lidc_concatenated_array, merged_dict, merged_list\n",
    "\n",
    "exact_lidc_concatenated_array , merged_dict, merged_list = load_partial_embeddings(file_path1, file_path2, train_names=None,test_names=test_names)\n",
    "\n",
    "data_shape = exact_lidc_concatenated_array.shape\n",
    "\n",
    "X_t = exact_lidc_concatenated_array.reshape(data_shape[0], -1)\n",
    "device2 = torch.device('cuda:2' if torch.cuda.is_available() else 'cpu')\n",
    "# device3 = torch.device('cuda:2' if torch.cuda.is_available() else 'cpu')\n",
    "\n",
    "\n",
    "print(X_t.shape)\n",
    "\n",
    "#需要把数据放到GPU上\n",
    "cluster_dict={}"
   ]
  },
  {
   "cell_type": "code",
   "execution_count": null,
   "metadata": {},
   "outputs": [],
   "source": [
    "X_t=from_numpy(X_t).float().to(device2)\n",
    "# initial_centers =from_numpy(initial_centers).float().to(device2)\n",
    "\n",
    "# from sklearn.cluster import KMeans\n",
    "num_cluster=2\n",
    "\n",
    "\n",
    "\n",
    "# cluster_labels, cluster_centers = kmeans(\n",
    "#     X=X_t, num_clusters=num_cluster, init=initial_centers,distance='euclidean', device=device2\n",
    "# )\n",
    "cluster_labels, cluster_centers = kmeans(\n",
    "    X=X_t, num_clusters=num_cluster, init=None,distance='euclidean', device=device2\n",
    ")\n",
    "print('kmeans is done'+str(num_cluster))"
   ]
  }
 ],
 "metadata": {
  "kernelspec": {
   "display_name": "test1",
   "language": "python",
   "name": "python3"
  },
  "language_info": {
   "codemirror_mode": {
    "name": "ipython",
    "version": 3
   },
   "file_extension": ".py",
   "mimetype": "text/x-python",
   "name": "python",
   "nbconvert_exporter": "python",
   "pygments_lexer": "ipython3",
   "version": "3.8.16"
  }
 },
 "nbformat": 4,
 "nbformat_minor": 2
}

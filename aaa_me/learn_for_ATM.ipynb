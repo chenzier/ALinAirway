{
 "cells": [
  {
   "cell_type": "code",
   "execution_count": 1,
   "metadata": {},
   "outputs": [],
   "source": [
    "import os\n",
    "import numpy as np\n",
    "import skimage.io as io\n",
    "import SimpleITK as sitk\n"
   ]
  },
  {
   "cell_type": "code",
   "execution_count": null,
   "metadata": {},
   "outputs": [],
   "source": [
    "raw_data_dict = dict()\n",
    "\n",
    "ATM22task23_file_path = \"/mnt/share102/et22-liy/nnUnet_data/nnUNet_raw_data/Task23_ATM22\"\n",
    "ATM22task23_train_raw_path = ATM22task23_file_path+\"/imagesTr\"\n",
    "ATM22task23_train_label_path = ATM22task23_file_path+\"/labelsTr\"\n",
    "\n",
    "ATM22task23_raw_names = os.listdir(ATM22task23_train_raw_path)\n",
    "ATM22task23_raw_names.sort()\n",
    "\n",
    "ATM22task23_label_names = os.listdir(ATM22task23_train_label_path)\n",
    "ATM22task23_label_names.sort()\n",
    "\n",
    "case_names = []\n",
    "\n",
    "for case in ATM22task23_raw_names:\n",
    "    temp = case.split(\".\")[0]\n",
    "    case_names.append(temp)\n",
    "    raw_data_dict[\"EXACT09_\"+temp]={}\n",
    "    raw_data_dict[\"EXACT09_\"+temp][\"image\"]=ATM22task23_train_raw_path+\"/\"+case\n",
    "\n",
    "for case in EXACT09_label_names:\n",
    "    temp = case.split(\"_\")[0]\n",
    "    if temp in case_names:\n",
    "        raw_data_dict[\"EXACT09_\"+temp][\"label\"]=ATM22task23_train_label_path+\"/\"+case\n",
    "\n",
    "ATM22task23_data_dict = raw_data_dict"
   ]
  },
  {
   "cell_type": "code",
   "execution_count": 2,
   "metadata": {},
   "outputs": [
    {
     "name": "stdout",
     "output_type": "stream",
     "text": [
      "(679, 512, 512)\n"
     ]
    }
   ],
   "source": [
    "image_and_label=('/mnt/share102/et22-liy/nnUnet_data/nnUNet_raw_data/Task23_ATM22/imagesTr/ATM_001_0000.nii.gz','/mnt/share102/et22-liy/nnUnet_data/nnUNet_raw_data/Task23_ATM22/labelsTr/ATM_001.nii.gz')\n",
    "raw_img = io.imread(image_and_label[0], plugin='simpleitk')\n",
    "label_img = io.imread(image_and_label[1], plugin='simpleitk')\n",
    "print(raw_img.shape)\n",
    "#维度(679, 512, 512)"
   ]
  }
 ],
 "metadata": {
  "kernelspec": {
   "display_name": "test1",
   "language": "python",
   "name": "python3"
  },
  "language_info": {
   "codemirror_mode": {
    "name": "ipython",
    "version": 3
   },
   "file_extension": ".py",
   "mimetype": "text/x-python",
   "name": "python",
   "nbconvert_exporter": "python",
   "pygments_lexer": "ipython3",
   "version": "3.8.16"
  },
  "orig_nbformat": 4
 },
 "nbformat": 4,
 "nbformat_minor": 2
}

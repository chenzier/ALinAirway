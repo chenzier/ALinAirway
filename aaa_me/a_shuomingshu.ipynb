{
 "cells": [
  {
   "cell_type": "code",
   "execution_count": null,
   "metadata": {},
   "outputs": [],
   "source": [
    "首先是\n",
    "/home/cs22-wangc/now/NaviAirway/dataset_preprocess_EXACT09.ipynb和/home/cs22-wangc/now/NaviAirway/dataset_preprocess_LIDC-IDRI.ipynb\n",
    "用于pre-process两个数据集\n",
    "这两个数据集包括 test、train数据集，以及每个子数据集下为image和annotation\n",
    "图像为DICOM文件 需要用pydicom.dcmrea读取\n",
    "然后使用 get_3d_img_for_one_case将每个case处理成3d图像\n",
    "3 d 图像后缀名为.nii.gz\n",
    "然后使用 reverse_img_3d_np来反转图像(好像没有使用这个函数)\n",
    "\n",
    "到了最后 加载label文件并把它加载成nii.gz\n",
    "label_file_path = \"/home/cs22-wangc/data/Airway/airways_EXACTtrain\"\n",
    "\n",
    "for case in train_case_dict.keys():\n",
    "    print(case)\n",
    "    img_label_arr, _, _, _ = loadFile(label_file_path+'/'+case+'.mhd')\n",
    "    sitk.WriteImage(sitk.GetImageFromArray(img_label_arr),\n",
    "                    output_file_path+\"/train_label/\"+case+'_label.nii.gz')\n"
   ]
  },
  {
   "cell_type": "code",
   "execution_count": null,
   "metadata": {},
   "outputs": [],
   "source": []
  },
  {
   "cell_type": "code",
   "execution_count": null,
   "metadata": {},
   "outputs": [],
   "source": [
    "然后是\n",
    "/home/cs22-wangc/now/NaviAirway/Pre_crop_images.ipynb\n",
    "读取上一步得到的.nii.gz文件\n",
    "使用下面函数将每个img切块得到crop_list(image和label都要切)\n",
    "def crop_one_3d_img(input_img, crop_cube_size, stride):\n",
    "然后将切好的图像保存为.npy文件\n",
    "#裁剪后的图像是raw_img (128, 128, 128)"
   ]
  },
  {
   "cell_type": "code",
   "execution_count": null,
   "metadata": {},
   "outputs": [],
   "source": [
    "最后是\n",
    "/home/cs22-wangc/now/NaviAirway/Get_dataset_info.ipynb\n",
    "首先加载.npy文件\n",
    "利用edt.edt文件计算airway_pixel_num_boundary和airway_pixel_num_inner\n",
    "并保存在data_dict中\n",
    "然后划分case为训练集和测试集\n",
    "最后一个code块 用于生成训练策略.pkl文件"
   ]
  },
  {
   "cell_type": "code",
   "execution_count": null,
   "metadata": {},
   "outputs": [],
   "source": [
    "在/home/cs22-wangc/now/NaviAirway/train.py\n",
    "首先加载参数和模型\n",
    "载入.pkl文件，即训练策略\n",
    "事实上，训练策略其实是放大了的data，以字典形式存在\n",
    "train_dataset_more_focus_on_airways_of_low_generation = airway_dataset(dataset_info_more_focus_on_airways_of_low_generation)\n",
    "airway_dataset是NaviAirway定义的Dataset，载入dataset_info_more_focus_on_airways_of_low_generation数据集\n",
    "然后就是训练 训练是focus_on_low和focus_on_high交替进行的，即这个epoch 在low，下个epoch就在high\n",
    "训练详见train.py即可"
   ]
  },
  {
   "cell_type": "code",
   "execution_count": null,
   "metadata": {},
   "outputs": [],
   "source": [
    "#加载的是Pre_crop_images.ipynb裁剪出的立方体\n",
    "#raw_img (128, 128, 128)\n",
    "\n",
    "#在dataloader中还会进行随机裁剪\n",
    "#裁剪后的3d图像的xyz是(32,128,128)\n",
    "image.shape [4, 1, 32, 128, 128]\n",
    "#batch=4\n",
    "#1是通道"
   ]
  },
  {
   "cell_type": "code",
   "execution_count": null,
   "metadata": {},
   "outputs": [],
   "source": [
    "/home/cs22-wangc/now/NaviAirway/NaviAirway_pipeline.ipynb\n",
    "进行Inference\n",
    "首先载入图片、网络、权重\n",
    "\n"
   ]
  }
 ],
 "metadata": {
  "language_info": {
   "name": "python"
  },
  "orig_nbformat": 4
 },
 "nbformat": 4,
 "nbformat_minor": 2
}

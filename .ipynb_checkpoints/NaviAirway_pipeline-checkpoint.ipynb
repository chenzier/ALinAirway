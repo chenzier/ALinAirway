{
 "cells": [
  {
   "cell_type": "markdown",
   "id": "12ad104a",
   "metadata": {},
   "source": [
    "### import packages"
   ]
  },
  {
   "cell_type": "code",
   "execution_count": null,
   "id": "hazardous-connectivity",
   "metadata": {},
   "outputs": [],
   "source": [
    "import numpy as np\n",
    "import torch\n",
    "import copy\n",
    "import pandas as pd\n",
    "import SimpleITK as sitk\n",
    "from PIL import Image\n",
    "import pydicom\n",
    "import cv2\n",
    "import nibabel as nib\n",
    "import os\n",
    "import skimage.io as io\n",
    "\n",
    "import matplotlib.pyplot as plt\n",
    "import plotly.graph_objects as go\n",
    "import plotly.express as px\n",
    "\n",
    "from func.model_arch import SegAirwayModel\n",
    "from func.model_run import get_image_and_label, get_crop_of_image_and_label_within_the_range_of_airway_foreground, \\\n",
    "semantic_segment_crop_and_cat, dice_accuracy\n",
    "from func.post_process import post_process, add_broken_parts_to_the_result, find_end_point_of_the_airway_centerline, \\\n",
    "get_super_vox, Cluster_super_vox, delete_fragments, get_outlayer_of_a_3d_shape, get_crop_by_pixel_val, fill_inner_hole\n",
    "from func.detect_tree import tree_detection\n",
    "from func.ulti import save_obj, load_obj, get_and_save_3d_img_for_one_case,load_one_CT_img, \\\n",
    "get_df_of_centerline, get_df_of_line_of_centerline"
   ]
  },
  {
   "cell_type": "markdown",
   "id": "ae9d2390",
   "metadata": {},
   "source": [
    "### load data"
   ]
  },
  {
   "cell_type": "markdown",
   "id": "based-holocaust",
   "metadata": {},
   "source": [
    "[Option 1] get 3D image from DCM images"
   ]
  },
  {
   "cell_type": "code",
   "execution_count": null,
   "id": "constitutional-kruger",
   "metadata": {},
   "outputs": [],
   "source": [
    "intput_img_path = \"test_data/DCM_imgs\" # these DCM images come from a dataset which was not used for training\n",
    "raw_img_path = \"results/raw_img.nii.gz\"\n",
    "get_and_save_3d_img_for_one_case(img_path = intput_img_path,\n",
    "                                 output_file_path = raw_img_path) "
   ]
  },
  {
   "cell_type": "markdown",
   "id": "3a423210",
   "metadata": {},
   "source": [
    "[Option 2] or you can directly load the 3D .nii.gz image if you already have it"
   ]
  },
  {
   "cell_type": "code",
   "execution_count": null,
   "id": "7ae71014",
   "metadata": {},
   "outputs": [],
   "source": [
    "raw_img_path = \"test_data/test_image.nii.gz\""
   ]
  },
  {
   "cell_type": "markdown",
   "id": "pleasant-brain",
   "metadata": {},
   "source": [
    "### load model"
   ]
  },
  {
   "cell_type": "code",
   "execution_count": null,
   "id": "421b3b65",
   "metadata": {},
   "outputs": [],
   "source": [
    "raw_img = load_one_CT_img(raw_img_path)"
   ]
  },
  {
   "cell_type": "markdown",
   "id": "bea0fb24",
   "metadata": {},
   "source": [
    "set the ```device``` to be used (CPU or GPU)"
   ]
  },
  {
   "cell_type": "code",
   "execution_count": null,
   "id": "e29fc171",
   "metadata": {},
   "outputs": [],
   "source": [
    "device = torch.device('cuda:4' if torch.cuda.is_available() else 'cpu')"
   ]
  },
  {
   "cell_type": "code",
   "execution_count": null,
   "id": "fitting-banking",
   "metadata": {},
   "outputs": [],
   "source": [
    "model=SegAirwayModel(in_channels=1, out_channels=2)\n",
    "model.to(device)\n",
    "load_path = \"model_para/checkpoint.pkl\"\n",
    "checkpoint = torch.load(load_path)\n",
    "model.load_state_dict(checkpoint['model_state_dict'])"
   ]
  },
  {
   "cell_type": "code",
   "execution_count": null,
   "id": "european-speech",
   "metadata": {},
   "outputs": [],
   "source": [
    "model_semi_supervise_learning=SegAirwayModel(in_channels=1, out_channels=2)\n",
    "model_semi_supervise_learning.to(device)\n",
    "load_path = \"model_para/checkpoint_semi_supervise_learning.pkl\"\n",
    "checkpoint = torch.load(load_path)\n",
    "model_semi_supervise_learning.load_state_dict(checkpoint['model_state_dict'])"
   ]
  },
  {
   "cell_type": "markdown",
   "id": "middle-toronto",
   "metadata": {},
   "source": [
    "### run on 3D image"
   ]
  },
  {
   "cell_type": "code",
   "execution_count": null,
   "id": "brief-sydney",
   "metadata": {},
   "outputs": [],
   "source": [
    "threshold = 0.5"
   ]
  },
  {
   "cell_type": "code",
   "execution_count": null,
   "id": "simple-columbus",
   "metadata": {},
   "outputs": [],
   "source": [
    "seg_result_semi_supervise_learning = semantic_segment_crop_and_cat(raw_img, model_semi_supervise_learning, device,\n",
    "                                                                   crop_cube_size=[32, 128, 128], stride=[16, 64, 64],\n",
    "                                                                   windowMin=-1000, windowMax=600)\n",
    "seg_onehot_semi_supervise_learning = np.array(seg_result_semi_supervise_learning>threshold, dtype=np.int)"
   ]
  },
  {
   "cell_type": "code",
   "execution_count": null,
   "id": "single-folks",
   "metadata": {},
   "outputs": [],
   "source": [
    "# plt.figure(figsize=(20,20))\n",
    "# plt.title(\"model output (top view)\")\n",
    "# plt.imshow(np.sum(seg_onehot_semi_supervise_learning, axis=1), cmap='gray')"
   ]
  },
  {
   "cell_type": "code",
   "execution_count": null,
   "id": "generic-clone",
   "metadata": {},
   "outputs": [],
   "source": [
    "seg_result = semantic_segment_crop_and_cat(raw_img, model, device,\n",
    "                                           crop_cube_size=[32, 128, 128], stride=[16, 64, 64],\n",
    "                                           windowMin=-1000, windowMax=600)\n",
    "seg_onehot = np.array(seg_result>threshold, dtype=np.int)"
   ]
  },
  {
   "cell_type": "code",
   "execution_count": null,
   "id": "fatal-hundred",
   "metadata": {},
   "outputs": [],
   "source": [
    "# plt.figure(figsize=(20,20))\n",
    "# plt.title(\"model output (top view)\")\n",
    "# plt.imshow(np.sum(seg_onehot, axis=1), cmap='gray')"
   ]
  },
  {
   "cell_type": "code",
   "execution_count": null,
   "id": "coordinate-margin",
   "metadata": {},
   "outputs": [],
   "source": [
    "seg_onehot_comb = np.array((seg_onehot+seg_onehot_semi_supervise_learning)>0, dtype=np.int)\n",
    "seg_result_comb = (seg_result+seg_result_semi_supervise_learning)/2"
   ]
  },
  {
   "cell_type": "markdown",
   "id": "f3e5935f",
   "metadata": {},
   "source": [
    "2D visualization: show top view"
   ]
  },
  {
   "cell_type": "code",
   "execution_count": null,
   "id": "welcome-inclusion",
   "metadata": {},
   "outputs": [],
   "source": [
    "plt.figure(figsize=(20,20))\n",
    "plt.title(\"model output (top view)\")\n",
    "plt.imshow(np.sum(seg_result_semi_supervise_learning, axis=1), cmap='gray')"
   ]
  },
  {
   "cell_type": "markdown",
   "id": "659c9119",
   "metadata": {},
   "source": [
    "2D visualization: chosen slice"
   ]
  },
  {
   "cell_type": "code",
   "execution_count": null,
   "id": "interpreted-ancient",
   "metadata": {},
   "outputs": [],
   "source": [
    "# choose the slice to show\n",
    "# ----------\n",
    "N=150\n",
    "# ----------\n",
    "\n",
    "plt.figure(figsize=(20,20))\n",
    "plt.title(\"raw image with model output label\")\n",
    "plt.imshow(raw_img[N,:,:], cmap='gray')\n",
    "plt.contour(seg_onehot_comb[N,:,:], colors='r', linestyles='-')"
   ]
  },
  {
   "cell_type": "markdown",
   "id": "pending-tournament",
   "metadata": {},
   "source": [
    "### post process I: find the max connected body"
   ]
  },
  {
   "cell_type": "code",
   "execution_count": null,
   "id": "valid-doubt",
   "metadata": {
    "scrolled": true
   },
   "outputs": [],
   "source": [
    "seg_processed,_ = post_process(seg_onehot_comb, threshold=threshold)"
   ]
  },
  {
   "cell_type": "markdown",
   "id": "55fe31bb",
   "metadata": {},
   "source": [
    "2D visualization: show top view"
   ]
  },
  {
   "cell_type": "code",
   "execution_count": null,
   "id": "german-brother",
   "metadata": {},
   "outputs": [],
   "source": [
    "plt.figure(figsize=(20,20))\n",
    "plt.title(\"model output after post process I (top view)\")\n",
    "plt.imshow(np.sum(seg_processed, axis=1), cmap='gray')"
   ]
  },
  {
   "cell_type": "markdown",
   "id": "1c2969b8",
   "metadata": {},
   "source": [
    "2D visualization: chosen slice"
   ]
  },
  {
   "cell_type": "code",
   "execution_count": null,
   "id": "royal-weekly",
   "metadata": {},
   "outputs": [],
   "source": [
    "# choose the slice to show\n",
    "# ----------\n",
    "N=200\n",
    "# ----------\n",
    "\n",
    "plt.figure(figsize=(20,20))\n",
    "plt.title(\"raw image with label after post process I\")\n",
    "plt.imshow(raw_img[N,:,:], cmap='gray')\n",
    "plt.contour(seg_processed[N,:,:], colors='r', linestyles='-')"
   ]
  },
  {
   "cell_type": "markdown",
   "id": "seeing-witch",
   "metadata": {},
   "source": [
    "### airway centerline detection"
   ]
  },
  {
   "cell_type": "code",
   "execution_count": null,
   "id": "wrong-thanksgiving",
   "metadata": {},
   "outputs": [],
   "source": [
    "seg_slice_label_I, connection_dict_of_seg_I, number_of_branch_I, tree_length_I = tree_detection(seg_processed, search_range=2)"
   ]
  },
  {
   "cell_type": "markdown",
   "id": "73f579a7",
   "metadata": {},
   "source": [
    "3D visualization: show centerline"
   ]
  },
  {
   "cell_type": "code",
   "execution_count": null,
   "id": "389b7d01",
   "metadata": {},
   "outputs": [],
   "source": [
    "# # show the airway centerline\n",
    "# def get_df_of_centerline(connection_dict):\n",
    "#     d = {}\n",
    "#     d[\"x\"] = []\n",
    "#     d[\"y\"] = []\n",
    "#     d[\"z\"] = []\n",
    "#     d[\"val\"] = []\n",
    "#     d[\"text\"] = []\n",
    "#     for item in connection_dict.keys():\n",
    "#         print(item, end=\"\\r\")\n",
    "#         d[\"x\"].append(connection_dict[item]['loc'][0])\n",
    "#         d[\"y\"].append(connection_dict[item]['loc'][1])\n",
    "#         d[\"z\"].append(connection_dict[item]['loc'][2])\n",
    "#         d[\"val\"].append(connection_dict[item]['generation'])\n",
    "#         d[\"text\"].append(str(item)+\": \"+str({\"before\":connection_dict[item][\"before\"], \"next\":connection_dict[item][\"next\"]}))\n",
    "#     df = pd.DataFrame(data=d)\n",
    "#     return df\n",
    "\n",
    "# # show the airway centerline\n",
    "# def get_df_of_line_of_centerline(connection_dict):\n",
    "#     d = {}\n",
    "#     for label in connection_dict.keys():\n",
    "#         if connection_dict[label][\"before\"][0]==0:\n",
    "#             start_label = label\n",
    "#             break\n",
    "#     def get_next_point(connection_dict, current_label, d, idx):\n",
    "#         while (idx in d.keys()):\n",
    "#             idx+=1\n",
    "        \n",
    "#         d[idx]={}\n",
    "#         if \"x\" not in d[idx].keys():\n",
    "#             d[idx][\"x\"]=[]\n",
    "#         if \"y\" not in d[idx].keys():\n",
    "#             d[idx][\"y\"]=[]\n",
    "#         if \"z\" not in d[idx].keys():\n",
    "#             d[idx][\"z\"]=[]\n",
    "#         if \"val\" not in d[idx].keys():\n",
    "#             d[idx][\"val\"]=[]\n",
    "        \n",
    "#         before_label = connection_dict[current_label][\"before\"][0]\n",
    "#         if before_label not in connection_dict.keys():\n",
    "#             before_label = current_label\n",
    "#         d[idx][\"x\"].append(connection_dict[before_label][\"loc\"][0])\n",
    "#         d[idx][\"y\"].append(connection_dict[before_label][\"loc\"][1])\n",
    "#         d[idx][\"z\"].append(connection_dict[before_label][\"loc\"][2])\n",
    "#         d[idx][\"val\"].append(connection_dict[before_label][\"generation\"])\n",
    "        \n",
    "#         d[idx][\"x\"].append(connection_dict[current_label][\"loc\"][0])\n",
    "#         d[idx][\"y\"].append(connection_dict[current_label][\"loc\"][1])\n",
    "#         d[idx][\"z\"].append(connection_dict[current_label][\"loc\"][2])\n",
    "#         d[idx][\"val\"].append(connection_dict[current_label][\"generation\"])\n",
    "        \n",
    "#         if connection_dict[current_label][\"number_of_next\"]==0:\n",
    "#             return\n",
    "#         else:\n",
    "#             for next_label in connection_dict[current_label][\"next\"]:\n",
    "#                 get_next_point(connection_dict, next_label, d, idx+1)\n",
    "    \n",
    "#     get_next_point(connection_dict, start_label, d,0)\n",
    "#     return d"
   ]
  },
  {
   "cell_type": "code",
   "execution_count": null,
   "id": "addressed-bouquet",
   "metadata": {},
   "outputs": [],
   "source": [
    "df_of_line_of_centerline = get_df_of_line_of_centerline(connection_dict_of_seg_I)\n",
    "\n",
    "fig = go.Figure()\n",
    "\n",
    "for item in df_of_line_of_centerline.keys():\n",
    "    fig.add_trace(go.Scatter3d(x=df_of_line_of_centerline[item][\"x\"],\n",
    "                               y=df_of_line_of_centerline[item][\"y\"],\n",
    "                               z=df_of_line_of_centerline[item][\"z\"],mode='lines'))\n",
    "\n",
    "fig.show(\"notebook\")"
   ]
  },
  {
   "cell_type": "markdown",
   "id": "muslim-alexander",
   "metadata": {},
   "source": [
    "### post process II: find the broken airway branches"
   ]
  },
  {
   "cell_type": "code",
   "execution_count": null,
   "id": "available-jersey",
   "metadata": {},
   "outputs": [],
   "source": [
    "seg_processed_II = add_broken_parts_to_the_result(connection_dict_of_seg_I, seg_result_comb, seg_processed, threshold = threshold,\n",
    "                                                  search_range = 10, delta_threshold = 0.05, min_threshold = 0.4)"
   ]
  },
  {
   "cell_type": "markdown",
   "id": "f7847bc6",
   "metadata": {},
   "source": [
    "2D visualization: show top view"
   ]
  },
  {
   "cell_type": "code",
   "execution_count": null,
   "id": "union-movement",
   "metadata": {},
   "outputs": [],
   "source": [
    "plt.figure(figsize=(20,20))\n",
    "plt.title(\"model output after post process II (top view)\")\n",
    "plt.imshow(np.sum(seg_processed_II, axis=1), cmap='gray')"
   ]
  },
  {
   "cell_type": "markdown",
   "id": "4c726dcd",
   "metadata": {},
   "source": [
    "centerline re-detection"
   ]
  },
  {
   "cell_type": "code",
   "execution_count": null,
   "id": "starting-president",
   "metadata": {
    "scrolled": true
   },
   "outputs": [],
   "source": [
    "seg_slice_label_II, connection_dict_of_seg_II, number_of_branch_II, tree_length_II = tree_detection(seg_processed_II, search_range=2)"
   ]
  },
  {
   "cell_type": "markdown",
   "id": "0481beb8",
   "metadata": {},
   "source": [
    "3D visualization: show centerline"
   ]
  },
  {
   "cell_type": "code",
   "execution_count": null,
   "id": "australian-parliament",
   "metadata": {},
   "outputs": [],
   "source": [
    "df_of_line_of_centerline = get_df_of_line_of_centerline(connection_dict_of_seg_II)\n",
    "\n",
    "fig = go.Figure()\n",
    "\n",
    "for item in df_of_line_of_centerline.keys():\n",
    "    fig.add_trace(go.Scatter3d(x=df_of_line_of_centerline[item][\"x\"],\n",
    "                               y=df_of_line_of_centerline[item][\"y\"],\n",
    "                               z=df_of_line_of_centerline[item][\"z\"],mode='lines'))\n",
    "\n",
    "fig.show(\"notebook\")\n",
    "\n",
    "# save the centerline result\n",
    "fig.write_html(\"results/seg_result_centerline.html\")"
   ]
  },
  {
   "cell_type": "markdown",
   "id": "wrong-vancouver",
   "metadata": {},
   "source": [
    "### save the results"
   ]
  },
  {
   "cell_type": "code",
   "execution_count": null,
   "id": "polished-queue",
   "metadata": {},
   "outputs": [],
   "source": [
    "output_file_path = \"results\""
   ]
  },
  {
   "cell_type": "code",
   "execution_count": null,
   "id": "european-interference",
   "metadata": {},
   "outputs": [],
   "source": [
    "sitk.WriteImage(sitk.GetImageFromArray(seg_processed),output_file_path+\"/segmentation.nii.gz\")\n",
    "sitk.WriteImage(sitk.GetImageFromArray(seg_processed_II),output_file_path+\"/segmentation_add_broken_parts.nii.gz\")"
   ]
  },
  {
   "cell_type": "markdown",
   "id": "67a98b35",
   "metadata": {},
   "source": [
    "### save the results as 3d obj"
   ]
  },
  {
   "cell_type": "code",
   "execution_count": null,
   "id": "incredible-barrel",
   "metadata": {},
   "outputs": [],
   "source": [
    "from func.points_to_mesh import produce_3d_obj"
   ]
  },
  {
   "cell_type": "code",
   "execution_count": null,
   "id": "8bfaaf55",
   "metadata": {},
   "outputs": [],
   "source": [
    "produce_3d_obj(seg_processed, output_file_path+\"/segmentation\")"
   ]
  },
  {
   "cell_type": "code",
   "execution_count": null,
   "id": "d58660c8",
   "metadata": {},
   "outputs": [],
   "source": [
    "produce_3d_obj(seg_processed_II, output_file_path+\"/segmentation_add_broken_parts\")"
   ]
  },
  {
   "cell_type": "code",
   "execution_count": null,
   "id": "3cae892f",
   "metadata": {},
   "outputs": [],
   "source": []
  }
 ],
 "metadata": {
  "kernelspec": {
   "display_name": "Python 3 (ipykernel)",
   "language": "python",
   "name": "python3"
  },
  "language_info": {
   "codemirror_mode": {
    "name": "ipython",
    "version": 3
   },
   "file_extension": ".py",
   "mimetype": "text/x-python",
   "name": "python",
   "nbconvert_exporter": "python",
   "pygments_lexer": "ipython3",
   "version": "3.8.11"
  }
 },
 "nbformat": 4,
 "nbformat_minor": 5
}

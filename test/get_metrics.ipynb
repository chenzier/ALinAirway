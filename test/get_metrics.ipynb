{
 "cells": [
  {
   "cell_type": "code",
   "execution_count": 1,
   "metadata": {},
   "outputs": [
    {
     "name": "stderr",
     "output_type": "stream",
     "text": [
      "/home/wangc/anaconda3/envs/test1/lib/python3.8/site-packages/tqdm/auto.py:22: TqdmWarning: IProgress not found. Please update jupyter and ipywidgets. See https://ipywidgets.readthedocs.io/en/stable/user_install.html\n",
      "  from .autonotebook import tqdm as notebook_tqdm\n"
     ]
    }
   ],
   "source": [
    "import numpy as np\n",
    "import torch\n",
    "import os\n",
    "import skimage.io as io\n",
    "import matplotlib.pyplot as plt\n",
    "from sklearn.manifold import TSNE\n",
    "from torch import from_numpy as from_numpy\n",
    "from matplotlib.colors import ListedColormap\n",
    "import pickle\n",
    "import sys\n",
    "sys.path.append('../')  # 将上一层目录添加到模块搜索路径中\n",
    "from func.model_arch2 import SegAirwayModel\n",
    "import pandas as pd\n",
    "\n"
   ]
  },
  {
   "cell_type": "code",
   "execution_count": 2,
   "metadata": {},
   "outputs": [],
   "source": [
    "def ave_metrics(metrics):\n",
    "    td, bd, dsc, precision, sensitivity = 0, 0, 0, 0, 0\n",
    "    for key, value in metrics.items():\n",
    "        td += value['tree_length']\n",
    "        bd += value['detected_branch_ratio']\n",
    "        dsc+=value['DSC']\n",
    "        precision += value['precision']\n",
    "        sensitivity += value['sensitivity']\n",
    "    \n",
    "    number = 10\n",
    "    result = [round(td / number, 2),\n",
    "              round(bd / number, 2),\n",
    "              round(dsc / number, 2),\n",
    "              round(precision / number, 2),\n",
    "              round(sensitivity / number, 2)]\n",
    "    \n",
    "    return result\n",
    "\n",
    "# 打印结果\n"
   ]
  },
  {
   "cell_type": "code",
   "execution_count": 3,
   "metadata": {},
   "outputs": [
    {
     "name": "stdout",
     "output_type": "stream",
     "text": [
      "td bd dsc precision sensitivity\n"
     ]
    },
    {
     "data": {
      "text/plain": [
       "{'ae4_metrics404': [77.24, 75.3, 90.31, 87.57, 93.68],\n",
       " 'ae4_metrics403': [80.1, 78.16, 89.86, 86.15, 94.31],\n",
       " 'ae4_metrics203': [72.68, 71.2, 87.01, 83.63, 91.37],\n",
       " 'ae4_metrics204': [71.55, 69.58, 87.53, 83.98, 92.01],\n",
       " 'al_metrics404': [81.46, 79.75, 88.1, 82.61, 94.87],\n",
       " 'al_metrics203': [62.99, 58.97, 82.14, 82.88, 82.84],\n",
       " 'al_metrics204': [75.44, 73.3, 87.86, 84.4, 92.18],\n",
       " 'et_metrics70': [82.24, 80.57, 90.22, 86.41, 94.78],\n",
       " 'et_metrics60': [82.77, 80.29, 90.43, 87.11, 94.45],\n",
       " 'et_metrics40': [77.46, 76.32, 90.36, 87.72, 93.6],\n",
       " 'et_metrics20': [70.9, 68.2, 89.71, 88.75, 91.18],\n",
       " 'mk4_metrics70': [84.98, 82.9, 89.97, 85.16, 95.71],\n",
       " 'mk4_metrics40': [79.43, 78.2, 88.5, 83.56, 94.52],\n",
       " 'mk4_metrics60': [85.89, 84.64, 88.29, 82.01, 96.04],\n",
       " 'mk4_metrics20': [74.23, 70.76, 86.44, 81.89, 92.06],\n",
       " 'mk6_metrics70': [84.98, 82.96, 89.97, 85.15, 95.71],\n",
       " 'mk6_metrics40': [79.51, 77.25, 89.49, 85.48, 94.35],\n",
       " 'ae4_metrics202': [66.34, 64.57, 88.95, 87.77, 90.65],\n",
       " 'ae4_metrics401': [73.73, 70.67, 87.99, 84.13, 92.82],\n",
       " 'mk6_metrics20': [74.23, 70.76, 86.44, 81.9, 92.06],\n",
       " 'mk6_metrics60': [85.89, 84.64, 88.29, 82.0, 96.04],\n",
       " 'ae4_metrics402': [80.31, 79.06, 89.54, 85.6, 94.28],\n",
       " 'ae4_metrics201': [72.65, 70.28, 89.44, 88.14, 91.34],\n",
       " 'ae4_metrics602': [75.23, 72.76, 89.91, 87.35, 93.06],\n",
       " 'ae4_metrics702': [83.3, 81.28, 90.18, 85.84, 95.33],\n",
       " 'ae4_metrics601': [78.94, 77.2, 89.73, 85.78, 94.49],\n",
       " 'ae4_metrics701': [84.05, 82.64, 89.95, 85.99, 94.75],\n",
       " 'al_metrics302': [68.27, 66.41, 88.68, 86.96, 91.05],\n",
       " 'al_metrics301': [76.62, 74.21, 88.83, 85.14, 93.33],\n",
       " 'al_metrics401': [74.07, 72.23, 89.03, 86.49, 92.21],\n",
       " 'al_metrics402': [83.2, 81.66, 87.39, 81.04, 95.31]}"
      ]
     },
     "execution_count": 3,
     "metadata": {},
     "output_type": "execute_result"
    }
   ],
   "source": [
    "folder_path1 = '/home/wangc/now/test_NaviAirway/NaviAirway/saved_metrics4'\n",
    "metrics_list1 = os.listdir(folder_path1)\n",
    "metrics_res1={}\n",
    "for file_name in metrics_list1:\n",
    "    file_path=folder_path1+'/'+file_name\n",
    "    with open(file_path, 'rb') as file:\n",
    "        loaded_data = pickle.load(file)\n",
    "        metrics_res1[file_name[:-4]]=ave_metrics(loaded_data['metrics_al'])\n",
    "print('td', 'bd', 'dsc', 'precision', 'sensitivity')\n",
    "metrics_res1"
   ]
  },
  {
   "cell_type": "code",
   "execution_count": 14,
   "metadata": {},
   "outputs": [
    {
     "name": "stdout",
     "output_type": "stream",
     "text": [
      "td bd dsc precision sensitivity\n"
     ]
    },
    {
     "data": {
      "text/plain": [
       "{'al_128_metrics30': [68.29, 66.05, 88.88, 87.52, 90.84],\n",
       " 'al_128_metrics40': [78.57, 76.66, 88.59, 83.86, 94.35],\n",
       " 'al_128_metrics50': [74.9, 73.42, 88.49, 86.66, 90.92],\n",
       " 'al_128_metrics60': [76.88, 74.22, 90.01, 87.25, 93.4],\n",
       " 'rd_128_metrics1001': [68.83, 65.49, 87.52, 84.27, 91.57],\n",
       " 'rd_128_metrics1002': [71.19, 67.69, 88.54, 86.56, 91.05],\n",
       " 'rd_128_metrics1003': [72.14, 70.05, 87.85, 84.49, 92.01],\n",
       " 'rd_128_metrics1004': [70.48, 68.69, 87.55, 83.73, 92.18],\n",
       " 'rd_128_metrics301': [75.25, 73.2, 85.94, 80.05, 93.27],\n",
       " 'rd_128_metrics302': [67.36, 64.51, 87.28, 85.68, 89.67],\n",
       " 'rd_128_metrics401': [69.85, 66.27, 89.4, 89.89, 89.38],\n",
       " 'rd_128_metrics402': [75.51, 73.54, 88.27, 83.78, 93.76],\n",
       " 'rd_128_metrics501': [74.18, 70.98, 88.68, 85.07, 93.0],\n",
       " 'rd_128_metrics502': [79.77, 77.87, 89.6, 85.51, 94.54],\n",
       " 'rd_128_metrics601': [77.0, 75.64, 89.46, 86.86, 92.8],\n",
       " 'rd_128_metrics602': [78.45, 76.91, 89.76, 86.3, 93.94]}"
      ]
     },
     "execution_count": 14,
     "metadata": {},
     "output_type": "execute_result"
    }
   ],
   "source": [
    "folder_path2 = '/home/wangc/now/test_NaviAirway/NaviAirway/saved_metrics2/metrics_128/'\n",
    "metrics_list2 = os.listdir(folder_path2)\n",
    "metrics_res2={}\n",
    "for file_name in metrics_list2:\n",
    "    file_path=folder_path2+'/'+file_name\n",
    "    with open(file_path, 'rb') as file:\n",
    "        loaded_data = pickle.load(file)\n",
    "        metrics_res2[file_name[:-4]]=ave_metrics(loaded_data['metrics_al'])\n",
    "print('td', 'bd', 'dsc', 'precision', 'sensitivity')\n",
    "metrics_res2"
   ]
  },
  {
   "cell_type": "code",
   "execution_count": 10,
   "metadata": {},
   "outputs": [
    {
     "data": {
      "text/plain": [
       "{'al_128_metrics20': [74.21, 69.37, 85.32, 81.68, 90.3],\n",
       " 'al_128_metrics40': [79.28, 77.62, 88.59, 84.69, 93.43],\n",
       " 'al_128_metrics70': [85.65, 84.34, 89.02, 83.58, 95.61]}"
      ]
     },
     "execution_count": 10,
     "metadata": {},
     "output_type": "execute_result"
    }
   ],
   "source": [
    "folder_path3 = '/home/wangc/now/test_NaviAirway/NaviAirway/saved_metrics/metrics_128/al'\n",
    "metrics_list3 = os.listdir(folder_path3)\n",
    "metrics_res3={}\n",
    "for file_name in metrics_list3:\n",
    "    file_path=folder_path3+'/'+file_name\n",
    "    # print(file_path)\n",
    "    with open(file_path, 'rb') as file:\n",
    "        loaded_data = pickle.load(file)\n",
    "        metrics_res3[file_name[:-4]]=ave_metrics(loaded_data['metrics_al'])\n",
    "metrics_res3"
   ]
  },
  {
   "cell_type": "code",
   "execution_count": 2,
   "metadata": {},
   "outputs": [
    {
     "name": "stdout",
     "output_type": "stream",
     "text": [
      "{'metrics_al': {'LIDC_IDRI_0066.nii.gz': {'detected_branch_num': 4728, 'detected_branch_ratio': 80.48, 'tree_length': 86.87, 'fpr': 0.008, 'fnr': 6.965, 'sensitivity': 93.035, 'specificity': 5875, 'precision': 92.284, 'DSC': 92.65797829688266, 'iou': 0.8632035481557063}, 'LIDC_IDRI_0328.nii.gz': {'detected_branch_num': 1760, 'detected_branch_ratio': 82.13, 'tree_length': 84.57, 'fpr': 0.016, 'fnr': 4.22, 'sensitivity': 95.78, 'specificity': 2143, 'precision': 87.045, 'DSC': 91.2038298919732, 'iou': 0.8383057463157901}, 'LIDC_IDRI_0376.nii.gz': {'detected_branch_num': 2687, 'detected_branch_ratio': 64.21, 'tree_length': 73.26, 'fpr': 0.018, 'fnr': 7.113, 'sensitivity': 92.887, 'specificity': 4185, 'precision': 89.303, 'DSC': 91.05974818595972, 'iou': 0.8358713729605642}, 'LIDC_IDRI_0441.nii.gz': {'detected_branch_num': 4219, 'detected_branch_ratio': 64.66, 'tree_length': 63.76, 'fpr': 0.023, 'fnr': 12.15, 'sensitivity': 87.85, 'specificity': 6525, 'precision': 88.686, 'DSC': 88.26602052839081, 'iou': 0.7899608994619159}, 'EXACT09_CASE13.nii.gz': {'detected_branch_num': 1904, 'detected_branch_ratio': 59.0, 'tree_length': 62.67, 'fpr': 0.018, 'fnr': 7.146, 'sensitivity': 92.854, 'specificity': 3227, 'precision': 87.793, 'DSC': 90.25260560097871, 'iou': 0.8223712932110042}, 'LIDC_IDRI_0744.nii.gz': {'detected_branch_num': 4681, 'detected_branch_ratio': 85.48, 'tree_length': 85.32, 'fpr': 0.024, 'fnr': 4.881, 'sensitivity': 95.119, 'specificity': 5476, 'precision': 87.002, 'DSC': 90.87961561818793, 'iou': 0.8328328047990787}, 'EXACT09_CASE08.nii.gz': {'detected_branch_num': 1738, 'detected_branch_ratio': 94.35, 'tree_length': 91.22, 'fpr': 0.029, 'fnr': 0.866, 'sensitivity': 99.134, 'specificity': 1842, 'precision': 79.073, 'DSC': 87.9743532184482, 'iou': 0.7853045339555551}, 'EXACT09_CASE01.nii.gz': {'detected_branch_num': 2036, 'detected_branch_ratio': 96.31, 'tree_length': 97.39, 'fpr': 0.019, 'fnr': 0.813, 'sensitivity': 99.187, 'specificity': 2114, 'precision': 84.832, 'DSC': 91.44959579173889, 'iou': 0.8424625455683926}, 'EXACT09_CASE05.nii.gz': {'detected_branch_num': 989, 'detected_branch_ratio': 97.82, 'tree_length': 98.46, 'fpr': 0.023, 'fnr': 0.243, 'sensitivity': 99.757, 'specificity': 1011, 'precision': 77.985, 'DSC': 87.5375504382757, 'iou': 0.7783763415977538}, 'LIDC_IDRI_1004.nii.gz': {'detected_branch_num': 1919, 'detected_branch_ratio': 88.23, 'tree_length': 89.45, 'fpr': 0.019, 'fnr': 2.296, 'sensitivity': 97.704, 'specificity': 2175, 'precision': 84.371, 'DSC': 90.549325102293, 'iou': 0.827304935273055}}}\n"
     ]
    }
   ],
   "source": [
    "folder_path3 = '/home/wangc/now/test_NaviAirway/NaviAirway/weichuang_need'\n",
    "metrics_list3 = os.listdir(folder_path3)\n",
    "metrics_res3={}\n",
    "for file_name in metrics_list3:\n",
    "    file_path=folder_path3+'/'+file_name\n",
    "    # print(file_path)\n",
    "    with open(file_path, 'rb') as file:\n",
    "        loaded_data = pickle.load(file)\n",
    "        # metrics_res3[file_name[:-4]]=ave_metrics(loaded_data['metrics_al'])\n",
    "        print(loaded_data)"
   ]
  },
  {
   "cell_type": "code",
   "execution_count": 4,
   "metadata": {},
   "outputs": [
    {
     "name": "stdout",
     "output_type": "stream",
     "text": [
      "尾号为20x的元素的平均值: [70.67, 68.26, 86.14, 83.72, 89.6]\n",
      "尾号为40x的元素的平均值: [79.6, 77.74, 89.42, 85.44, 94.29]\n",
      "尾号为70x的元素的平均值: None\n"
     ]
    }
   ],
   "source": [
    "def calculate_average_by_tail(data, tail_number):\n",
    "    # 选择尾号为特定数字的元素\n",
    "    selected_metrics = [value for key, value in data.items() if key[-3:-1] == tail_number]\n",
    "\n",
    "    if not selected_metrics:\n",
    "        return None  # 如果没有找到匹配的尾号，则返回None\n",
    "\n",
    "    # 计算平均值\n",
    "    # average_metrics = [sum(x) / len(x) for x in zip(*selected_metrics)]\n",
    "    average_metrics = [round(sum(x) / len(x), 2) for x in zip(*selected_metrics)]\n",
    "\n",
    "    return average_metrics\n",
    "data=metrics_res1\n",
    "# 测试函数\n",
    "tail_70x_average = calculate_average_by_tail(data, '70')\n",
    "tail_40x_average = calculate_average_by_tail(data, '40')\n",
    "tail_20x_average = calculate_average_by_tail(data, '20')\n",
    "\n",
    "# 输出结果\n",
    "print(\"尾号为20x的元素的平均值:\", tail_20x_average)\n",
    "print(\"尾号为40x的元素的平均值:\", tail_40x_average)\n",
    "print(\"尾号为70x的元素的平均值:\", tail_70x_average)\n"
   ]
  },
  {
   "cell_type": "code",
   "execution_count": 5,
   "metadata": {},
   "outputs": [],
   "source": [
    "import pandas as pd\n",
    "\n",
    "# 假设metrics_res1是一个包含指标结果的字典或列表\n",
    "# metrics_res1 = ...\n",
    "\n",
    "df = pd.DataFrame(metrics_res1, index=['td', 'bd', 'dsc', 'precision', 'sensitivity'])\n",
    "\n",
    "# 转置DataFrame，交换行和列\n",
    "df_transposed = df.T\n",
    "\n",
    "# 写入Excel文件\n",
    "excel_filename = 'metrics_results2.xlsx'\n",
    "df_transposed.to_excel(excel_filename, index_label='Metrics')\n"
   ]
  },
  {
   "cell_type": "code",
   "execution_count": null,
   "metadata": {},
   "outputs": [],
   "source": []
  },
  {
   "cell_type": "code",
   "execution_count": null,
   "metadata": {},
   "outputs": [],
   "source": []
  },
  {
   "cell_type": "code",
   "execution_count": null,
   "metadata": {},
   "outputs": [],
   "source": []
  },
  {
   "cell_type": "code",
   "execution_count": null,
   "metadata": {},
   "outputs": [],
   "source": []
  },
  {
   "cell_type": "code",
   "execution_count": 17,
   "metadata": {},
   "outputs": [
    {
     "data": {
      "text/plain": [
       "[49.202, 46.719, 0.0, 79.0133, 76.4265]"
      ]
     },
     "execution_count": 17,
     "metadata": {},
     "output_type": "execute_result"
    }
   ],
   "source": [
    "file_path = '/home/wangc/now/test_NaviAirway/NaviAirway/saved_metrics/metrics_256/rd/rd_256_metrics20.pkl'\n",
    "with open(file_path, 'rb') as file:\n",
    "    loaded_data = pickle.load(file)\n",
    "    metrics_256_rd_20=loaded_data['metrics_al']\n",
    "# stacked_embeddings_numpy1 = np.stack(embeddings_list1, axis=0)\n",
    "\n",
    "file_path = '/home/wangc/now/test_NaviAirway/NaviAirway/saved_metrics/metrics_256/rd/rd_256_metrics20.pkl'\n",
    "with open(file_path, 'rb') as file:\n",
    "    loaded_data = pickle.load(file)\n",
    "    metrics_256_rd_20=ave_metrics(loaded_data['metrics_al'])\n",
    "metrics_256_rd_20"
   ]
  },
  {
   "cell_type": "code",
   "execution_count": 11,
   "metadata": {},
   "outputs": [
    {
     "name": "stdout",
     "output_type": "stream",
     "text": [
      "68.75\n",
      "60.87\n",
      "45.3\n",
      "31.88\n",
      "36.17\n",
      "35.44\n",
      "68.33\n",
      "56.47\n",
      "67.73\n",
      "52.72\n"
     ]
    }
   ],
   "source": [
    "file_path = '/home/wangc/now/test_NaviAirway/NaviAirway/saved_metrics/metrics_256/al/metrics20.pkl'\n",
    "with open(file_path, 'rb') as file:\n",
    "    loaded_data = pickle.load(file)\n",
    "    metrics_256_al_20=loaded_data['metrics_al']\n",
    "# stacked_embeddings_numpy1 = np.stack(embeddings_list1, axis=0)\n",
    "for key,value in metrics_256_al_20.items():\n",
    "    print(value['tree_length'])"
   ]
  },
  {
   "cell_type": "code",
   "execution_count": 2,
   "metadata": {},
   "outputs": [],
   "source": [
    "file_path = '/home/wangc/now/test_NaviAirway/NaviAirway/saved_metrics/metrics_256/rd/rd_256_metrics40.pkl'\n",
    "with open(file_path, 'rb') as file:\n",
    "    loaded_data = pickle.load(file)\n",
    "    metrics_256_rd_40=loaded_data['metrics_al']\n",
    "# stacked_embeddings_numpy1 = np.stack(embeddings_list1, axis=0)\n",
    "for key,value in metrics_256_rd_40.items():\n",
    "    print(value['tree_length'])\n"
   ]
  },
  {
   "cell_type": "code",
   "execution_count": 5,
   "metadata": {},
   "outputs": [
    {
     "name": "stdout",
     "output_type": "stream",
     "text": [
      "75.85\n",
      "60.92\n",
      "41.37\n",
      "33.13\n",
      "37.12\n",
      "51.0\n",
      "65.09\n",
      "77.97\n",
      "76.51\n",
      "59.87\n"
     ]
    }
   ],
   "source": [
    "file_path = '/home/wangc/now/test_NaviAirway/NaviAirway/saved_metrics/metrics_256/al/metrics40.pkl'\n",
    "with open(file_path, 'rb') as file:\n",
    "    loaded_data = pickle.load(file)\n",
    "    metrics_256_al_40=loaded_data['metrics_al']\n",
    "# stacked_embeddings_numpy1 = np.stack(embeddings_list1, axis=0)\n",
    "for key,value in metrics_256_rd_40.items():\n",
    "    print(value['tree_length'])"
   ]
  },
  {
   "cell_type": "code",
   "execution_count": 7,
   "metadata": {},
   "outputs": [
    {
     "name": "stdout",
     "output_type": "stream",
     "text": [
      "74.71\n",
      "67.03\n",
      "49.62\n",
      "35.77\n",
      "34.81\n",
      "56.1\n",
      "69.0\n",
      "75.29\n",
      "79.41\n",
      "63.91\n"
     ]
    }
   ],
   "source": [
    "file_path = '/home/wangc/now/test_NaviAirway/NaviAirway/saved_metrics/metrics_256/rd/rd_256_metrics70.pkl'\n",
    "with open(file_path, 'rb') as file:\n",
    "    loaded_data = pickle.load(file)\n",
    "    metrics_256_rd_70=loaded_data['metrics_al']\n",
    "# stacked_embeddings_numpy1 = np.stack(embeddings_list1, axis=0)\n",
    "for key,value in metrics_256_rd_70.items():\n",
    "    print(value['tree_length'])\n"
   ]
  },
  {
   "cell_type": "code",
   "execution_count": 6,
   "metadata": {},
   "outputs": [
    {
     "name": "stdout",
     "output_type": "stream",
     "text": [
      "81.9\n",
      "76.58\n",
      "61.26\n",
      "48.13\n",
      "49.65\n",
      "72.39\n",
      "81.87\n",
      "88.1\n",
      "92.66\n",
      "73.36\n"
     ]
    }
   ],
   "source": [
    "file_path = '/home/wangc/now/test_NaviAirway/NaviAirway/saved_metrics/metrics_256/al/metrics70.pkl'\n",
    "with open(file_path, 'rb') as file:\n",
    "    loaded_data = pickle.load(file)\n",
    "    metrics_256_al_70=loaded_data['metrics_al']\n",
    "# stacked_embeddings_numpy1 = np.stack(embeddings_list1, axis=0)\n",
    "for key,value in metrics_256_al_70.items():\n",
    "    print(value['tree_length'])"
   ]
  },
  {
   "cell_type": "code",
   "execution_count": 33,
   "metadata": {},
   "outputs": [
    {
     "name": "stdout",
     "output_type": "stream",
     "text": [
      "80.04\n",
      "73.42\n",
      "58.17\n",
      "32.19\n",
      "48.37\n",
      "50.39\n",
      "85.45\n",
      "69.71\n",
      "89.59\n",
      "71.65\n"
     ]
    }
   ],
   "source": [
    "file_path = '/home/wangc/now/test_NaviAirway/NaviAirway/saved_metrics/metrics_128/rd/rd_128_metrics20.pkl'\n",
    "with open(file_path, 'rb') as file:\n",
    "    loaded_data = pickle.load(file)\n",
    "    metrics_128_rd_20=loaded_data['metrics_al']\n",
    "# stacked_embeddings_numpy1 = np.stack(embeddings_list1, axis=0)\n",
    "for key,value in metrics_128_rd_20.items():\n",
    "    print(value['tree_length'])"
   ]
  },
  {
   "cell_type": "code",
   "execution_count": 29,
   "metadata": {},
   "outputs": [
    {
     "name": "stdout",
     "output_type": "stream",
     "text": [
      "85.2\n",
      "78.99\n",
      "67.12\n",
      "57.36\n",
      "58.81\n",
      "79.83\n",
      "86.52\n",
      "95.61\n",
      "97.16\n",
      "86.45\n"
     ]
    }
   ],
   "source": [
    "file_path = '/home/wangc/now/test_NaviAirway/NaviAirway/saved_metrics/metrics_128/rd/rd_128_metrics40.pkl'\n",
    "with open(file_path, 'rb') as file:\n",
    "    loaded_data = pickle.load(file)\n",
    "    metrics_128_rd_40=loaded_data['metrics_al']\n",
    "# stacked_embeddings_numpy1 = np.stack(embeddings_list1, axis=0)\n",
    "for key,value in metrics_128_rd_40.items():\n",
    "    print(value['tree_length'])"
   ]
  },
  {
   "cell_type": "code",
   "execution_count": 31,
   "metadata": {},
   "outputs": [
    {
     "name": "stdout",
     "output_type": "stream",
     "text": [
      "89.87\n",
      "85.45\n",
      "74.66\n",
      "62.68\n",
      "67.86\n",
      "85.95\n",
      "90.02\n",
      "97.48\n",
      "98.38\n",
      "94.56\n"
     ]
    }
   ],
   "source": [
    "file_path = '/home/wangc/now/test_NaviAirway/NaviAirway/saved_metrics/metrics_128/rd/rd_128_metrics100.pkl'\n",
    "with open(file_path, 'rb') as file:\n",
    "    loaded_data = pickle.load(file)\n",
    "    metrics_128_rd_100=loaded_data['metrics_al']\n",
    "# stacked_embeddings_numpy1 = np.stack(embeddings_list1, axis=0)\n",
    "for key,value in metrics_128_rd_100.items():\n",
    "    print(value['tree_length'])"
   ]
  },
  {
   "cell_type": "code",
   "execution_count": null,
   "metadata": {},
   "outputs": [],
   "source": [
    "file_path = '/home/wangc/now/test_NaviAirway/NaviAirway/saved_metrics/metrics_256/rd/rd_256_metrics20.pkl'\n",
    "with open(file_path, 'rb') as file:\n",
    "    loaded_data = pickle.load(file)\n",
    "    metrics_256_rd_20=ave_metrics(loaded_data['metrics_al'])\n",
    "metrics_256_rd_20"
   ]
  }
 ],
 "metadata": {
  "kernelspec": {
   "display_name": "test1",
   "language": "python",
   "name": "python3"
  },
  "language_info": {
   "codemirror_mode": {
    "name": "ipython",
    "version": 3
   },
   "file_extension": ".py",
   "mimetype": "text/x-python",
   "name": "python",
   "nbconvert_exporter": "python",
   "pygments_lexer": "ipython3",
   "version": "3.8.16"
  }
 },
 "nbformat": 4,
 "nbformat_minor": 2
}
